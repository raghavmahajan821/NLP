{
  "nbformat": 4,
  "nbformat_minor": 0,
  "metadata": {
    "colab": {
      "provenance": [],
      "authorship_tag": "ABX9TyO96RpgawjvOf4YQJ9i6iHf",
      "include_colab_link": true
    },
    "kernelspec": {
      "name": "python3",
      "display_name": "Python 3"
    },
    "language_info": {
      "name": "python"
    }
  },
  "cells": [
    {
      "cell_type": "markdown",
      "metadata": {
        "id": "view-in-github",
        "colab_type": "text"
      },
      "source": [
        "<a href=\"https://colab.research.google.com/github/raghavmahajan821/NLP/blob/main/Convert_text_to_features.ipynb\" target=\"_parent\"><img src=\"https://colab.research.google.com/assets/colab-badge.svg\" alt=\"Open In Colab\"/></a>"
      ]
    },
    {
      "cell_type": "markdown",
      "source": [
        "##Converting Text to Features using One Hot Encoding\n",
        "One Hot Encoding converts characters or words into binary\n",
        "numbers"
      ],
      "metadata": {
        "id": "bEYwsTsm5rF5"
      }
    },
    {
      "cell_type": "code",
      "source": [
        "import pandas as pd\n",
        "import nltk\n",
        "nltk.download('punkt')"
      ],
      "metadata": {
        "colab": {
          "base_uri": "https://localhost:8080/"
        },
        "id": "eeDvbl6B6RGR",
        "outputId": "c7ef9774-a677-4618-c15b-f94232dc5e7e"
      },
      "execution_count": null,
      "outputs": [
        {
          "output_type": "stream",
          "name": "stderr",
          "text": [
            "[nltk_data] Downloading package punkt to /root/nltk_data...\n",
            "[nltk_data]   Unzipping tokenizers/punkt.zip.\n"
          ]
        },
        {
          "output_type": "execute_result",
          "data": {
            "text/plain": [
              "True"
            ]
          },
          "metadata": {},
          "execution_count": 10
        }
      ]
    },
    {
      "cell_type": "code",
      "source": [
        "#Entering text\n",
        "text=\"I am learning NLP\"\n",
        "text"
      ],
      "metadata": {
        "colab": {
          "base_uri": "https://localhost:8080/",
          "height": 36
        },
        "id": "5ttNyXz25rN4",
        "outputId": "86f8fc05-eac0-4344-b260-b2a639e3d774"
      },
      "execution_count": null,
      "outputs": [
        {
          "output_type": "execute_result",
          "data": {
            "text/plain": [
              "'I am learning NLP'"
            ],
            "application/vnd.google.colaboratory.intrinsic+json": {
              "type": "string"
            }
          },
          "metadata": {},
          "execution_count": 11
        }
      ]
    },
    {
      "cell_type": "code",
      "source": [
        "pd.get_dummies(text.split())"
      ],
      "metadata": {
        "colab": {
          "base_uri": "https://localhost:8080/",
          "height": 175
        },
        "id": "QZ_n0n_I6DeI",
        "outputId": "5f02506b-e16b-40a6-8d82-08ce4ecb6830"
      },
      "execution_count": null,
      "outputs": [
        {
          "output_type": "execute_result",
          "data": {
            "text/plain": [
              "   I  NLP  am  learning\n",
              "0  1    0   0         0\n",
              "1  0    0   1         0\n",
              "2  0    0   0         1\n",
              "3  0    1   0         0"
            ],
            "text/html": [
              "\n",
              "  <div id=\"df-190d465f-5d82-42d4-a3fd-de7f15eb77b8\" class=\"colab-df-container\">\n",
              "    <div>\n",
              "<style scoped>\n",
              "    .dataframe tbody tr th:only-of-type {\n",
              "        vertical-align: middle;\n",
              "    }\n",
              "\n",
              "    .dataframe tbody tr th {\n",
              "        vertical-align: top;\n",
              "    }\n",
              "\n",
              "    .dataframe thead th {\n",
              "        text-align: right;\n",
              "    }\n",
              "</style>\n",
              "<table border=\"1\" class=\"dataframe\">\n",
              "  <thead>\n",
              "    <tr style=\"text-align: right;\">\n",
              "      <th></th>\n",
              "      <th>I</th>\n",
              "      <th>NLP</th>\n",
              "      <th>am</th>\n",
              "      <th>learning</th>\n",
              "    </tr>\n",
              "  </thead>\n",
              "  <tbody>\n",
              "    <tr>\n",
              "      <th>0</th>\n",
              "      <td>1</td>\n",
              "      <td>0</td>\n",
              "      <td>0</td>\n",
              "      <td>0</td>\n",
              "    </tr>\n",
              "    <tr>\n",
              "      <th>1</th>\n",
              "      <td>0</td>\n",
              "      <td>0</td>\n",
              "      <td>1</td>\n",
              "      <td>0</td>\n",
              "    </tr>\n",
              "    <tr>\n",
              "      <th>2</th>\n",
              "      <td>0</td>\n",
              "      <td>0</td>\n",
              "      <td>0</td>\n",
              "      <td>1</td>\n",
              "    </tr>\n",
              "    <tr>\n",
              "      <th>3</th>\n",
              "      <td>0</td>\n",
              "      <td>1</td>\n",
              "      <td>0</td>\n",
              "      <td>0</td>\n",
              "    </tr>\n",
              "  </tbody>\n",
              "</table>\n",
              "</div>\n",
              "    <div class=\"colab-df-buttons\">\n",
              "\n",
              "  <div class=\"colab-df-container\">\n",
              "    <button class=\"colab-df-convert\" onclick=\"convertToInteractive('df-190d465f-5d82-42d4-a3fd-de7f15eb77b8')\"\n",
              "            title=\"Convert this dataframe to an interactive table.\"\n",
              "            style=\"display:none;\">\n",
              "\n",
              "  <svg xmlns=\"http://www.w3.org/2000/svg\" height=\"24px\" viewBox=\"0 -960 960 960\">\n",
              "    <path d=\"M120-120v-720h720v720H120Zm60-500h600v-160H180v160Zm220 220h160v-160H400v160Zm0 220h160v-160H400v160ZM180-400h160v-160H180v160Zm440 0h160v-160H620v160ZM180-180h160v-160H180v160Zm440 0h160v-160H620v160Z\"/>\n",
              "  </svg>\n",
              "    </button>\n",
              "\n",
              "  <style>\n",
              "    .colab-df-container {\n",
              "      display:flex;\n",
              "      gap: 12px;\n",
              "    }\n",
              "\n",
              "    .colab-df-convert {\n",
              "      background-color: #E8F0FE;\n",
              "      border: none;\n",
              "      border-radius: 50%;\n",
              "      cursor: pointer;\n",
              "      display: none;\n",
              "      fill: #1967D2;\n",
              "      height: 32px;\n",
              "      padding: 0 0 0 0;\n",
              "      width: 32px;\n",
              "    }\n",
              "\n",
              "    .colab-df-convert:hover {\n",
              "      background-color: #E2EBFA;\n",
              "      box-shadow: 0px 1px 2px rgba(60, 64, 67, 0.3), 0px 1px 3px 1px rgba(60, 64, 67, 0.15);\n",
              "      fill: #174EA6;\n",
              "    }\n",
              "\n",
              "    .colab-df-buttons div {\n",
              "      margin-bottom: 4px;\n",
              "    }\n",
              "\n",
              "    [theme=dark] .colab-df-convert {\n",
              "      background-color: #3B4455;\n",
              "      fill: #D2E3FC;\n",
              "    }\n",
              "\n",
              "    [theme=dark] .colab-df-convert:hover {\n",
              "      background-color: #434B5C;\n",
              "      box-shadow: 0px 1px 3px 1px rgba(0, 0, 0, 0.15);\n",
              "      filter: drop-shadow(0px 1px 2px rgba(0, 0, 0, 0.3));\n",
              "      fill: #FFFFFF;\n",
              "    }\n",
              "  </style>\n",
              "\n",
              "    <script>\n",
              "      const buttonEl =\n",
              "        document.querySelector('#df-190d465f-5d82-42d4-a3fd-de7f15eb77b8 button.colab-df-convert');\n",
              "      buttonEl.style.display =\n",
              "        google.colab.kernel.accessAllowed ? 'block' : 'none';\n",
              "\n",
              "      async function convertToInteractive(key) {\n",
              "        const element = document.querySelector('#df-190d465f-5d82-42d4-a3fd-de7f15eb77b8');\n",
              "        const dataTable =\n",
              "          await google.colab.kernel.invokeFunction('convertToInteractive',\n",
              "                                                    [key], {});\n",
              "        if (!dataTable) return;\n",
              "\n",
              "        const docLinkHtml = 'Like what you see? Visit the ' +\n",
              "          '<a target=\"_blank\" href=https://colab.research.google.com/notebooks/data_table.ipynb>data table notebook</a>'\n",
              "          + ' to learn more about interactive tables.';\n",
              "        element.innerHTML = '';\n",
              "        dataTable['output_type'] = 'display_data';\n",
              "        await google.colab.output.renderOutput(dataTable, element);\n",
              "        const docLink = document.createElement('div');\n",
              "        docLink.innerHTML = docLinkHtml;\n",
              "        element.appendChild(docLink);\n",
              "      }\n",
              "    </script>\n",
              "  </div>\n",
              "\n",
              "\n",
              "<div id=\"df-ab643eda-4acf-4b02-8233-9a656723624c\">\n",
              "  <button class=\"colab-df-quickchart\" onclick=\"quickchart('df-ab643eda-4acf-4b02-8233-9a656723624c')\"\n",
              "            title=\"Suggest charts\"\n",
              "            style=\"display:none;\">\n",
              "\n",
              "<svg xmlns=\"http://www.w3.org/2000/svg\" height=\"24px\"viewBox=\"0 0 24 24\"\n",
              "     width=\"24px\">\n",
              "    <g>\n",
              "        <path d=\"M19 3H5c-1.1 0-2 .9-2 2v14c0 1.1.9 2 2 2h14c1.1 0 2-.9 2-2V5c0-1.1-.9-2-2-2zM9 17H7v-7h2v7zm4 0h-2V7h2v10zm4 0h-2v-4h2v4z\"/>\n",
              "    </g>\n",
              "</svg>\n",
              "  </button>\n",
              "\n",
              "<style>\n",
              "  .colab-df-quickchart {\n",
              "      --bg-color: #E8F0FE;\n",
              "      --fill-color: #1967D2;\n",
              "      --hover-bg-color: #E2EBFA;\n",
              "      --hover-fill-color: #174EA6;\n",
              "      --disabled-fill-color: #AAA;\n",
              "      --disabled-bg-color: #DDD;\n",
              "  }\n",
              "\n",
              "  [theme=dark] .colab-df-quickchart {\n",
              "      --bg-color: #3B4455;\n",
              "      --fill-color: #D2E3FC;\n",
              "      --hover-bg-color: #434B5C;\n",
              "      --hover-fill-color: #FFFFFF;\n",
              "      --disabled-bg-color: #3B4455;\n",
              "      --disabled-fill-color: #666;\n",
              "  }\n",
              "\n",
              "  .colab-df-quickchart {\n",
              "    background-color: var(--bg-color);\n",
              "    border: none;\n",
              "    border-radius: 50%;\n",
              "    cursor: pointer;\n",
              "    display: none;\n",
              "    fill: var(--fill-color);\n",
              "    height: 32px;\n",
              "    padding: 0;\n",
              "    width: 32px;\n",
              "  }\n",
              "\n",
              "  .colab-df-quickchart:hover {\n",
              "    background-color: var(--hover-bg-color);\n",
              "    box-shadow: 0 1px 2px rgba(60, 64, 67, 0.3), 0 1px 3px 1px rgba(60, 64, 67, 0.15);\n",
              "    fill: var(--button-hover-fill-color);\n",
              "  }\n",
              "\n",
              "  .colab-df-quickchart-complete:disabled,\n",
              "  .colab-df-quickchart-complete:disabled:hover {\n",
              "    background-color: var(--disabled-bg-color);\n",
              "    fill: var(--disabled-fill-color);\n",
              "    box-shadow: none;\n",
              "  }\n",
              "\n",
              "  .colab-df-spinner {\n",
              "    border: 2px solid var(--fill-color);\n",
              "    border-color: transparent;\n",
              "    border-bottom-color: var(--fill-color);\n",
              "    animation:\n",
              "      spin 1s steps(1) infinite;\n",
              "  }\n",
              "\n",
              "  @keyframes spin {\n",
              "    0% {\n",
              "      border-color: transparent;\n",
              "      border-bottom-color: var(--fill-color);\n",
              "      border-left-color: var(--fill-color);\n",
              "    }\n",
              "    20% {\n",
              "      border-color: transparent;\n",
              "      border-left-color: var(--fill-color);\n",
              "      border-top-color: var(--fill-color);\n",
              "    }\n",
              "    30% {\n",
              "      border-color: transparent;\n",
              "      border-left-color: var(--fill-color);\n",
              "      border-top-color: var(--fill-color);\n",
              "      border-right-color: var(--fill-color);\n",
              "    }\n",
              "    40% {\n",
              "      border-color: transparent;\n",
              "      border-right-color: var(--fill-color);\n",
              "      border-top-color: var(--fill-color);\n",
              "    }\n",
              "    60% {\n",
              "      border-color: transparent;\n",
              "      border-right-color: var(--fill-color);\n",
              "    }\n",
              "    80% {\n",
              "      border-color: transparent;\n",
              "      border-right-color: var(--fill-color);\n",
              "      border-bottom-color: var(--fill-color);\n",
              "    }\n",
              "    90% {\n",
              "      border-color: transparent;\n",
              "      border-bottom-color: var(--fill-color);\n",
              "    }\n",
              "  }\n",
              "</style>\n",
              "\n",
              "  <script>\n",
              "    async function quickchart(key) {\n",
              "      const quickchartButtonEl =\n",
              "        document.querySelector('#' + key + ' button');\n",
              "      quickchartButtonEl.disabled = true;  // To prevent multiple clicks.\n",
              "      quickchartButtonEl.classList.add('colab-df-spinner');\n",
              "      try {\n",
              "        const charts = await google.colab.kernel.invokeFunction(\n",
              "            'suggestCharts', [key], {});\n",
              "      } catch (error) {\n",
              "        console.error('Error during call to suggestCharts:', error);\n",
              "      }\n",
              "      quickchartButtonEl.classList.remove('colab-df-spinner');\n",
              "      quickchartButtonEl.classList.add('colab-df-quickchart-complete');\n",
              "    }\n",
              "    (() => {\n",
              "      let quickchartButtonEl =\n",
              "        document.querySelector('#df-ab643eda-4acf-4b02-8233-9a656723624c button');\n",
              "      quickchartButtonEl.style.display =\n",
              "        google.colab.kernel.accessAllowed ? 'block' : 'none';\n",
              "    })();\n",
              "  </script>\n",
              "</div>\n",
              "    </div>\n",
              "  </div>\n"
            ]
          },
          "metadata": {},
          "execution_count": 12
        }
      ]
    },
    {
      "cell_type": "code",
      "source": [
        "pd.get_dummies(text.split())"
      ],
      "metadata": {
        "colab": {
          "base_uri": "https://localhost:8080/",
          "height": 175
        },
        "id": "zo0cNJsF6Og-",
        "outputId": "3ccb7592-61a1-4c44-9508-061d5b088c86"
      },
      "execution_count": null,
      "outputs": [
        {
          "output_type": "execute_result",
          "data": {
            "text/plain": [
              "   I  NLP  am  learning\n",
              "0  1    0   0         0\n",
              "1  0    0   1         0\n",
              "2  0    0   0         1\n",
              "3  0    1   0         0"
            ],
            "text/html": [
              "\n",
              "  <div id=\"df-6de655a9-b0c8-452e-aab6-6bff162b5b3b\" class=\"colab-df-container\">\n",
              "    <div>\n",
              "<style scoped>\n",
              "    .dataframe tbody tr th:only-of-type {\n",
              "        vertical-align: middle;\n",
              "    }\n",
              "\n",
              "    .dataframe tbody tr th {\n",
              "        vertical-align: top;\n",
              "    }\n",
              "\n",
              "    .dataframe thead th {\n",
              "        text-align: right;\n",
              "    }\n",
              "</style>\n",
              "<table border=\"1\" class=\"dataframe\">\n",
              "  <thead>\n",
              "    <tr style=\"text-align: right;\">\n",
              "      <th></th>\n",
              "      <th>I</th>\n",
              "      <th>NLP</th>\n",
              "      <th>am</th>\n",
              "      <th>learning</th>\n",
              "    </tr>\n",
              "  </thead>\n",
              "  <tbody>\n",
              "    <tr>\n",
              "      <th>0</th>\n",
              "      <td>1</td>\n",
              "      <td>0</td>\n",
              "      <td>0</td>\n",
              "      <td>0</td>\n",
              "    </tr>\n",
              "    <tr>\n",
              "      <th>1</th>\n",
              "      <td>0</td>\n",
              "      <td>0</td>\n",
              "      <td>1</td>\n",
              "      <td>0</td>\n",
              "    </tr>\n",
              "    <tr>\n",
              "      <th>2</th>\n",
              "      <td>0</td>\n",
              "      <td>0</td>\n",
              "      <td>0</td>\n",
              "      <td>1</td>\n",
              "    </tr>\n",
              "    <tr>\n",
              "      <th>3</th>\n",
              "      <td>0</td>\n",
              "      <td>1</td>\n",
              "      <td>0</td>\n",
              "      <td>0</td>\n",
              "    </tr>\n",
              "  </tbody>\n",
              "</table>\n",
              "</div>\n",
              "    <div class=\"colab-df-buttons\">\n",
              "\n",
              "  <div class=\"colab-df-container\">\n",
              "    <button class=\"colab-df-convert\" onclick=\"convertToInteractive('df-6de655a9-b0c8-452e-aab6-6bff162b5b3b')\"\n",
              "            title=\"Convert this dataframe to an interactive table.\"\n",
              "            style=\"display:none;\">\n",
              "\n",
              "  <svg xmlns=\"http://www.w3.org/2000/svg\" height=\"24px\" viewBox=\"0 -960 960 960\">\n",
              "    <path d=\"M120-120v-720h720v720H120Zm60-500h600v-160H180v160Zm220 220h160v-160H400v160Zm0 220h160v-160H400v160ZM180-400h160v-160H180v160Zm440 0h160v-160H620v160ZM180-180h160v-160H180v160Zm440 0h160v-160H620v160Z\"/>\n",
              "  </svg>\n",
              "    </button>\n",
              "\n",
              "  <style>\n",
              "    .colab-df-container {\n",
              "      display:flex;\n",
              "      gap: 12px;\n",
              "    }\n",
              "\n",
              "    .colab-df-convert {\n",
              "      background-color: #E8F0FE;\n",
              "      border: none;\n",
              "      border-radius: 50%;\n",
              "      cursor: pointer;\n",
              "      display: none;\n",
              "      fill: #1967D2;\n",
              "      height: 32px;\n",
              "      padding: 0 0 0 0;\n",
              "      width: 32px;\n",
              "    }\n",
              "\n",
              "    .colab-df-convert:hover {\n",
              "      background-color: #E2EBFA;\n",
              "      box-shadow: 0px 1px 2px rgba(60, 64, 67, 0.3), 0px 1px 3px 1px rgba(60, 64, 67, 0.15);\n",
              "      fill: #174EA6;\n",
              "    }\n",
              "\n",
              "    .colab-df-buttons div {\n",
              "      margin-bottom: 4px;\n",
              "    }\n",
              "\n",
              "    [theme=dark] .colab-df-convert {\n",
              "      background-color: #3B4455;\n",
              "      fill: #D2E3FC;\n",
              "    }\n",
              "\n",
              "    [theme=dark] .colab-df-convert:hover {\n",
              "      background-color: #434B5C;\n",
              "      box-shadow: 0px 1px 3px 1px rgba(0, 0, 0, 0.15);\n",
              "      filter: drop-shadow(0px 1px 2px rgba(0, 0, 0, 0.3));\n",
              "      fill: #FFFFFF;\n",
              "    }\n",
              "  </style>\n",
              "\n",
              "    <script>\n",
              "      const buttonEl =\n",
              "        document.querySelector('#df-6de655a9-b0c8-452e-aab6-6bff162b5b3b button.colab-df-convert');\n",
              "      buttonEl.style.display =\n",
              "        google.colab.kernel.accessAllowed ? 'block' : 'none';\n",
              "\n",
              "      async function convertToInteractive(key) {\n",
              "        const element = document.querySelector('#df-6de655a9-b0c8-452e-aab6-6bff162b5b3b');\n",
              "        const dataTable =\n",
              "          await google.colab.kernel.invokeFunction('convertToInteractive',\n",
              "                                                    [key], {});\n",
              "        if (!dataTable) return;\n",
              "\n",
              "        const docLinkHtml = 'Like what you see? Visit the ' +\n",
              "          '<a target=\"_blank\" href=https://colab.research.google.com/notebooks/data_table.ipynb>data table notebook</a>'\n",
              "          + ' to learn more about interactive tables.';\n",
              "        element.innerHTML = '';\n",
              "        dataTable['output_type'] = 'display_data';\n",
              "        await google.colab.output.renderOutput(dataTable, element);\n",
              "        const docLink = document.createElement('div');\n",
              "        docLink.innerHTML = docLinkHtml;\n",
              "        element.appendChild(docLink);\n",
              "      }\n",
              "    </script>\n",
              "  </div>\n",
              "\n",
              "\n",
              "<div id=\"df-852dea67-9813-4fc2-b734-3a7d535ae978\">\n",
              "  <button class=\"colab-df-quickchart\" onclick=\"quickchart('df-852dea67-9813-4fc2-b734-3a7d535ae978')\"\n",
              "            title=\"Suggest charts\"\n",
              "            style=\"display:none;\">\n",
              "\n",
              "<svg xmlns=\"http://www.w3.org/2000/svg\" height=\"24px\"viewBox=\"0 0 24 24\"\n",
              "     width=\"24px\">\n",
              "    <g>\n",
              "        <path d=\"M19 3H5c-1.1 0-2 .9-2 2v14c0 1.1.9 2 2 2h14c1.1 0 2-.9 2-2V5c0-1.1-.9-2-2-2zM9 17H7v-7h2v7zm4 0h-2V7h2v10zm4 0h-2v-4h2v4z\"/>\n",
              "    </g>\n",
              "</svg>\n",
              "  </button>\n",
              "\n",
              "<style>\n",
              "  .colab-df-quickchart {\n",
              "      --bg-color: #E8F0FE;\n",
              "      --fill-color: #1967D2;\n",
              "      --hover-bg-color: #E2EBFA;\n",
              "      --hover-fill-color: #174EA6;\n",
              "      --disabled-fill-color: #AAA;\n",
              "      --disabled-bg-color: #DDD;\n",
              "  }\n",
              "\n",
              "  [theme=dark] .colab-df-quickchart {\n",
              "      --bg-color: #3B4455;\n",
              "      --fill-color: #D2E3FC;\n",
              "      --hover-bg-color: #434B5C;\n",
              "      --hover-fill-color: #FFFFFF;\n",
              "      --disabled-bg-color: #3B4455;\n",
              "      --disabled-fill-color: #666;\n",
              "  }\n",
              "\n",
              "  .colab-df-quickchart {\n",
              "    background-color: var(--bg-color);\n",
              "    border: none;\n",
              "    border-radius: 50%;\n",
              "    cursor: pointer;\n",
              "    display: none;\n",
              "    fill: var(--fill-color);\n",
              "    height: 32px;\n",
              "    padding: 0;\n",
              "    width: 32px;\n",
              "  }\n",
              "\n",
              "  .colab-df-quickchart:hover {\n",
              "    background-color: var(--hover-bg-color);\n",
              "    box-shadow: 0 1px 2px rgba(60, 64, 67, 0.3), 0 1px 3px 1px rgba(60, 64, 67, 0.15);\n",
              "    fill: var(--button-hover-fill-color);\n",
              "  }\n",
              "\n",
              "  .colab-df-quickchart-complete:disabled,\n",
              "  .colab-df-quickchart-complete:disabled:hover {\n",
              "    background-color: var(--disabled-bg-color);\n",
              "    fill: var(--disabled-fill-color);\n",
              "    box-shadow: none;\n",
              "  }\n",
              "\n",
              "  .colab-df-spinner {\n",
              "    border: 2px solid var(--fill-color);\n",
              "    border-color: transparent;\n",
              "    border-bottom-color: var(--fill-color);\n",
              "    animation:\n",
              "      spin 1s steps(1) infinite;\n",
              "  }\n",
              "\n",
              "  @keyframes spin {\n",
              "    0% {\n",
              "      border-color: transparent;\n",
              "      border-bottom-color: var(--fill-color);\n",
              "      border-left-color: var(--fill-color);\n",
              "    }\n",
              "    20% {\n",
              "      border-color: transparent;\n",
              "      border-left-color: var(--fill-color);\n",
              "      border-top-color: var(--fill-color);\n",
              "    }\n",
              "    30% {\n",
              "      border-color: transparent;\n",
              "      border-left-color: var(--fill-color);\n",
              "      border-top-color: var(--fill-color);\n",
              "      border-right-color: var(--fill-color);\n",
              "    }\n",
              "    40% {\n",
              "      border-color: transparent;\n",
              "      border-right-color: var(--fill-color);\n",
              "      border-top-color: var(--fill-color);\n",
              "    }\n",
              "    60% {\n",
              "      border-color: transparent;\n",
              "      border-right-color: var(--fill-color);\n",
              "    }\n",
              "    80% {\n",
              "      border-color: transparent;\n",
              "      border-right-color: var(--fill-color);\n",
              "      border-bottom-color: var(--fill-color);\n",
              "    }\n",
              "    90% {\n",
              "      border-color: transparent;\n",
              "      border-bottom-color: var(--fill-color);\n",
              "    }\n",
              "  }\n",
              "</style>\n",
              "\n",
              "  <script>\n",
              "    async function quickchart(key) {\n",
              "      const quickchartButtonEl =\n",
              "        document.querySelector('#' + key + ' button');\n",
              "      quickchartButtonEl.disabled = true;  // To prevent multiple clicks.\n",
              "      quickchartButtonEl.classList.add('colab-df-spinner');\n",
              "      try {\n",
              "        const charts = await google.colab.kernel.invokeFunction(\n",
              "            'suggestCharts', [key], {});\n",
              "      } catch (error) {\n",
              "        console.error('Error during call to suggestCharts:', error);\n",
              "      }\n",
              "      quickchartButtonEl.classList.remove('colab-df-spinner');\n",
              "      quickchartButtonEl.classList.add('colab-df-quickchart-complete');\n",
              "    }\n",
              "    (() => {\n",
              "      let quickchartButtonEl =\n",
              "        document.querySelector('#df-852dea67-9813-4fc2-b734-3a7d535ae978 button');\n",
              "      quickchartButtonEl.style.display =\n",
              "        google.colab.kernel.accessAllowed ? 'block' : 'none';\n",
              "    })();\n",
              "  </script>\n",
              "</div>\n",
              "    </div>\n",
              "  </div>\n"
            ]
          },
          "metadata": {},
          "execution_count": 13
        }
      ]
    },
    {
      "cell_type": "markdown",
      "source": [
        "##Converting Text to Features using Count Vectorizer\n",
        "Count vectorizer is almost similar to One Hot encoding. It counts the occurences of words that are present in the document."
      ],
      "metadata": {
        "id": "2CfEr3txsg48"
      }
    },
    {
      "cell_type": "code",
      "source": [
        "from sklearn.feature_extraction.text import CountVectorizer\n",
        "#Entering text\n",
        "text=['I am learning NLP','I will learn NLP in 2 months because i love NLP']"
      ],
      "metadata": {
        "id": "XI7ICVm36q3m"
      },
      "execution_count": null,
      "outputs": []
    },
    {
      "cell_type": "code",
      "source": [
        "# create the transform\n",
        "vectorizer=CountVectorizer()\n",
        "# tokenizing\n",
        "vectorizer.fit(text)\n",
        "vect=vectorizer.transform(text)\n",
        "# summarize &\n",
        "print(vectorizer.vocabulary_)"
      ],
      "metadata": {
        "colab": {
          "base_uri": "https://localhost:8080/"
        },
        "id": "b74qjrRltAPy",
        "outputId": "6820dbed-2084-4d2c-980b-89780acd6a79"
      },
      "execution_count": null,
      "outputs": [
        {
          "output_type": "stream",
          "name": "stdout",
          "text": [
            "{'am': 0, 'learning': 4, 'nlp': 7, 'will': 8, 'learn': 3, 'in': 2, 'months': 6, 'because': 1, 'love': 5}\n"
          ]
        }
      ]
    },
    {
      "cell_type": "code",
      "source": [
        "#  generating output\n",
        "print(vect.toarray())"
      ],
      "metadata": {
        "colab": {
          "base_uri": "https://localhost:8080/"
        },
        "id": "uOeaHdUlu8G3",
        "outputId": "4ebe63be-bfd8-4d12-ac03-4275502f8c05"
      },
      "execution_count": null,
      "outputs": [
        {
          "output_type": "stream",
          "name": "stdout",
          "text": [
            "[[1 0 0 0 1 0 0 1 0]\n",
            " [0 1 1 1 0 1 1 2 1]]\n"
          ]
        }
      ]
    },
    {
      "cell_type": "markdown",
      "source": [
        "##Converting Text to Features Using N grams Count Vectorizing"
      ],
      "metadata": {
        "id": "xuNS6C9Dz94z"
      }
    },
    {
      "cell_type": "code",
      "source": [
        "Text = \"I am learning NLP\"\n",
        "from textblob import TextBlob\n",
        "TextBlob(Text).ngrams(1)"
      ],
      "metadata": {
        "colab": {
          "base_uri": "https://localhost:8080/"
        },
        "id": "MiEV_SW59F99",
        "outputId": "ebadb849-03d8-4b4d-db9c-4eed8f1dbd9a"
      },
      "execution_count": null,
      "outputs": [
        {
          "output_type": "execute_result",
          "data": {
            "text/plain": [
              "[WordList(['I']), WordList(['am']), WordList(['learning']), WordList(['NLP'])]"
            ]
          },
          "metadata": {},
          "execution_count": 17
        }
      ]
    },
    {
      "cell_type": "code",
      "source": [
        "TextBlob(Text).ngrams(2)\n"
      ],
      "metadata": {
        "colab": {
          "base_uri": "https://localhost:8080/"
        },
        "id": "CsB3i0969epw",
        "outputId": "a61a3ac1-278f-4ae8-f910-a4f01acbaf9c"
      },
      "execution_count": null,
      "outputs": [
        {
          "output_type": "execute_result",
          "data": {
            "text/plain": [
              "[WordList(['I', 'am']),\n",
              " WordList(['am', 'learning']),\n",
              " WordList(['learning', 'NLP'])]"
            ]
          },
          "metadata": {},
          "execution_count": 18
        }
      ]
    },
    {
      "cell_type": "code",
      "source": [
        "#importing the function\n",
        "from sklearn.feature_extraction.text import CountVectorizer\n",
        "# Text\n",
        "text = [\"I love NLP and I will learn NLP in 2month \"]\n",
        "# create the transform\n",
        "vectorizer = CountVectorizer(ngram_range=(2,2))\n",
        "# tokenizing\n",
        "vectorizer.fit(text)\n",
        "# encode document\n",
        "vector = vectorizer.transform(text)\n",
        "# summarize & generating output\n",
        "print(vectorizer.vocabulary_)\n",
        "print(vector.toarray())"
      ],
      "metadata": {
        "colab": {
          "base_uri": "https://localhost:8080/"
        },
        "id": "pT1kAUx9-Mzc",
        "outputId": "f0bc07b2-cb1f-4f6d-aa96-78fd9653e69e"
      },
      "execution_count": null,
      "outputs": [
        {
          "output_type": "stream",
          "name": "stdout",
          "text": [
            "{'love nlp': 3, 'nlp and': 4, 'and will': 0, 'will learn': 6, 'learn nlp': 2, 'nlp in': 5, 'in 2month': 1}\n",
            "[[1 1 1 1 1 1 1]]\n"
          ]
        }
      ]
    },
    {
      "cell_type": "markdown",
      "source": [
        "##Converting Text to Features using Tfidf Vectorizing\n",
        "TF-IDF is the simple product of TF and IDF, which makes predictions and information\n",
        "  retrieval relevant.\n",
        "\n",
        "![WhatsApp Image 2023-11-06 at 23.49.16 (1).jpeg](data:image/jpeg;base64,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)\n",
        "\n",
        "**Term frequency (TF):** Term frequency is simply the ratio of the count of a\n",
        "  word present in a sentence, to the length of the sentence.\n",
        "\n",
        "  **Inverse Document Frequency (IDF):** IDF of each word is the log of\n",
        "  the ratio of the total number of rows to the number of rows in a particular\n",
        "  document in which that word is present.\n",
        "  IDF will measure the rareness of a term.\n",
        "\n",
        "![WhatsApp Image 2023-11-06 at 23.49.16.jpeg](data:image/jpeg;base64,/9j/4AAQSkZJRgABAQAAAQABAAD/2wCEAAYGBgYHBgcICAcKCwoLCg8ODAwODxYQERAREBYiFRkVFRkVIh4kHhweJB42KiYmKjY+NDI0PkxERExfWl98fKcBBgYGBgcGBwgIBwoLCgsKDw4MDA4PFhAREBEQFiIVGRUVGRUiHiQeHB4kHjYqJiYqNj40MjQ+TERETF9aX3x8p//CABEIAJsCcQMBIgACEQEDEQH/xAAsAAEAAwEBAQAAAAAAAAAAAAAAAgMEBQEGAQEAAAAAAAAAAAAAAAAAAAAA/9oADAMBAAIQAxAAAAL6oAAAAAAAAAAAAAAAAAAAAAAAAAAAAAAAAAAAAAAAAAAAAAAAAAAAAAAAAAAAAAAAAAAAAAAAAAAAAAAABlGpm0gAAAAAAAAAAAAAAAAAAAAAAAAAAAAAAAAAAAAAHNh0Rlq2xMtl8yF9F4AAAAAAAAZLS4ABCBcAAAAQJgKrQAAAAhMAAAAAAAAAAAAOPrNoADzknXZtIAAAAAABz7vZmWdkjL0Mmoz1aPDLO6ZTUtISu8KUxdVoqMvRx6jmbI2FHtkiGfTArWzK1npXrw7gAAAAAAAAAAADjT6w49PeHyHV7Q8+a+mHFh3R89o7OE4HQ7o+ds7w41PdoJ+xpNWbYKatcDBoz3nqPpCyMgjcVtWcrUdAoU2nqm4K9JUp0Ea9GYteeh7UWK7ArgXzuymsAAAAAAAAAAAAAAAAAAAAAACMhk82DPRvGfzSMNukeUaBh3BjuuGKeoYrr4mOzUKa9Qxz0jPRvGC7SMte4V5dwAAAAAAAAAAPPCQDDuAAADzCb2fQAAACJIyGtj2AAAAAABReAZb8e8AAAAcnrYz2FlRpyX5jp8zo4DV5CBbCWY1ewoL65VmueXQWgAAAY9mE3Ijk+7PTmW9CRly9KJz7tvho5HWxmOPVrM1fQ8MvP68CqjojDl6/hfy+pUVYevAxUdTEMvUFfN7NJCnfUS01wPGoY1wwdDPcZ9WXSVsnQKmiRlWZi1fkLFnpU9kQSkVpQPVlpmWipLw8W1niVZJbAilMqS8PEtBRXOg4j6EaQAAAAAAAAAAAAAAAAAAAYr7cxVZrGPYHNu2DNVuHNt2jmW7hyrt4xUdQc/TeMPu0crVrHMu2jluoMOXr1Eato59mwcvpSGSOzOaQf//EAAL/2gAMAwEAAgADAAAAIQAAAAAAAAAAAAAAAAAAAAAAAAAAAAAAAAAAAAAAAAAAAAAAAAAAAAAAAAAAAAAAAAAAAAAAAAAAAAAAAAAAAAAAAAAAAAAAAAAAAAAAAAAAAAAAAAAAAAAAADLMIAAAAAAAADAACAAAABAAAAAACAAAAAAAAAAAAAAABAAAAAAAADOIHAKGFDCGAMOJCAAAAAAAAAAAAIIAMANEEMCIIIBLCBPACDAFAACCAAAAAAAAAAAAAAAAAAAAAAAAEAAEIMIEAMEIEEMIIAAAAAAAAAADAAAAAAAAAAAAAAAAAAACAGAAAAAPBDEDAFCAAAAADEIBCFAHGJJFDNNNHEAOIGCACCABCCCAABDBABANMAAAAAAAAAAAAAAAAAAAADEIAEIMAEAMAEEOIAACAP/EAAL/2gAMAwEAAgADAAAAEPPPPPPPPPPPPPPPPPPPPPPPPPPPPPPPPPPPPPPPPPPPPPPPPPPPPPPPPPPPPPPPPPPPPPPPPPPPPPPPPPPPPPPPPPPPPPPPPPPPPPPPPPPPPPPPPPPPPPPPPBNKHPPPPPPPPPPPPPPPPPPPPPPOPPPPPPPPPPPPPPPPPNPPPPPPPNEHJONOGCBJHGDMPPPPPPPPPPPPPDHLDDLDDDGPPKDJBDBCADBCBADBBPPPPPPPPPPPPPPPPPPPPPPPLPDHLHHDLPDDPLDLLPPPPPPPPPPOPNPPPONPPPOOPPPPPPPPPDPPPPPINMKPLPNPPPPPMOCICLIPFANBLBGCLJDPKAABACCDDCDAABBADBDGPPPPPPPPPPPPPPPPPPPPPMHPHLHPDLDHLDHMHHDBPP/EABQRAQAAAAAAAAAAAAAAAAAAAID/2gAIAQIBAT8ASH//xAAUEQEAAAAAAAAAAAAAAAAAAACA/9oACAEDAQE/AEh//8QATBAAAQIEAwQFBgoGCAcBAAAAAQIDAAQREhMhMRQiQVEjMmGR0gUQU1RxkzAzUmJygaGxwdEVIEJQsvEkNUBDYHOCkjRjdIPh4vCA/9oACAEBAAE/Av8A9FtzOI46jDWFN61pxhqZDrSlhtW6SKGlcoQ/cttJbWkqQVCtOH+DXyWJ1C/St2f6hmIbGDNPS/B2i0/cqHa7bL0NOid+9MCZdtZTqpT7iK/Qr9uUOrmko1I6ZAScswogZwpbqX22biapWqtBwOn2wzi2dIM6nurl/glSEqtuFbTUe2ChJWF03gCAfbBZbLgczuAIGZ4wmWZSm0Jyuu1OvOFy7S02qB1r1jwgtoNtRpoeMKaT0eXVVXX+xGcYAqSql1tbFa6Qh1C1KSK1FNQRr7f1UqSoVSajshx5trrqp/4+CuSCASM9PO66hpBWs7o1yr8EVJFKkCpoP3jPABhof89r+KH3cNbVBvOKt7s4XMTCUkhAyeQnMHeCqad8OOTDamBub7hScjpQmFzLyUTaqJ6D7crvNKrKmjUJycWN0U0VSHb9ul6EfFOcO1MCaeTLuPOBFqMStONppC5pbKSpaKpDalGiSMxwzguvJVLhVvSGns3axtD+AF7lRMWHL59kKmV/0jDTXCNKUJuNKxivGYcbFtMNKhlzrkYbmlOiWtACnW7/AGD/AOMOPTDYZUQkJxLV+w5Aw3eSupTS7dy++H1FLstkminKZjPqk5QqZfSmdO50J7927zTLq3ZCbWKW2uD/AG5RiqU+tpNN1IJJ+dAm6obonfU6W/8Abr90POvtorROTqE+1KiBAcdL7zdU5ISpOXOuvdDcy+pqTWQnpvs3awqbUhL1QLkvBsU43U/OHph9DcyQBuN3pUUmh7ILruIlvd321KB5EU/OJErMpL3KB6JB+yJlakFggJNXUjMc+X9pmZucZlXpjoqJXRKbTpdTnDa5nFavsKFp4Cmff+szMzTj822XGUhmm9YeP1xLreUHA6E3JXSo0Ip2/wBgmJfGSAXFCigcqcIU0FhFSapNQrjWHWMRNC4vrBXDhnDjN5aJWrcNeGukKlEqTMJxV9N1tOVMsoAoKVJ7YZZwUkBSjVRVn2msKYudQ5iKBSCKZcYRLpS2tslS0qurd87WMEWlKiVClKGHEWPSXxiglZ4VoLSOELlEKQU3rAxL8udbowQFKKVKF3W7YwOlW4FqqUhPDhCJRCEMgKVVsUSrjTlDyb0KZKVG9PWgAAACHGcRTSr1CxVwp3QqUSpMwC4vputpypygCgAqT2wuUQtt1u5QS5WoHbGDvXBSrraE5ZxszdiE6WquB415wtlK0FKio5g19mkCXo6pzEXVSQk6cIEolKJdIdXRnq6cqco2VHS1Uo3qCvYRyp7IcYxGnEKWvfTQnLSMDpW3MRdUpKeHGGWUspCUk0AAFeQiYvWttAQd11CruGX9p8trRsDyLhcbcuOsTi1r8mq2ZdxAFbPthKJe9KkutWWELSlORHzs48lsyypJl1dCUpUFZ8DzhJbHkRldwxA5keI3ouZR5WZDakgKYzodeXmaSxMznlJONS4osorX84ncD9JyQXbmF3/hWFtYM422ogMBncv3k3V++FJKFSgU5dLYq7st35o9kMYSvKMyhNC3gpy/Zjox5EZSql6HNOKd+MlzkzjLbsIThX5i35sLS2mb8lJW7cbVhSjkSOFYYWbvKqGFCozbSOdOESaJRbcsf70De51IzvhLGFNTEmG+jf3xloP2oqhGG2KJrkBSHHAhPWpB0OR04RZ/yJj3n/tDWSeqsfSNfzh9a0qTSYZRUaLFa/aIDzh0nZXPLq/+8WTvp2fdHxRZO+nZ90fFFk76dn3R8UJM0utsywaGho2df90WTvp2fdHxRZO+nZ90fFFk76dn3R8UWTvp2fdHxRZO+nZ90fFB2tIqZhgf9s+KAJwiomGfdnxRZO+nZ90fFFk76dn3R8UWTvp2fdHxRZO+nZ90fFFk76dn3R8UWTvp2fdHxRZO+nZ90fFFk76dn3R8UWTvp2fdHxRWZvs2li6lbcM1/iiyd9Oz7o+KLJ307Puj4osnfTs+6Piiyd9Oz7o+KLJ307Puj4osnfTs+6Piiyd9Oz7o+KLJ307Puj4osnfTs+6PihsTAPSOII+ai38T+40Sy0zjj+IN5NLbeX1/qkVBzhllSM1uXqCbawtu5xtV3Vrl7YcvcS22UmtySo0oKA1/D9S0X3caUiSCTKmvpnD3LgTXRtulPRrKaH6WkS63lOzIUE0DtNfmiBM77SVIpiEgc8ucS/x87/mp/gELeWmYbaw63JUQa/JgTQKW93eUtSAO1Ov3Qh2ri2yKKSAfqPmLvSltAqUpBOfPSHnS4ZMpT/fkEE8QFQAEpASAKDIQy+tMs469SiVOVIPyVGNpqoItTcUEp3uXAxtbmyGYwcsHE631xjqxEIw81pKhny5xtiA2haqJqsozOQKe36obVeitPtrGPhInVpZFW1VVvdbdrWA8cVKCilyCoZ8v5w86lpFx5gAcydIqrbmrgB0DnHtTAmujbdKejWU0P0tIMxm9agqw+t7daCMZeM61YKpQFDPWtfyja1FEosNfHU46VTdCpspRMHC+J62fZXKFTADhbFKhNxqaawmbK1sBCMnWysGvLn3wZh1RlbEjN1aVAnikH8vM0obRMpw6HdJNda/u81plEswtlBQpYUCVHq062cbL0bbV/RoKaCnydISyUuuKuyUq6nbS2EyRSloYmaFVrTWopn2w0ypDjyisG9VaU0yp+EKZWZht28bqVClPlfyhEoQlNVi5LqlpNPlfzjAVV1Yc6RSaXU0p5sLpVOIVQlIBy5aRsh6G1yljhWaitSa/n5tkBbcbUqqF35fTNYtdp8YNOUbKvYdmxR8XZdbwpSMFzGacxBuoUmlutfr7Ibl3EJpig76z1cjcawy0GkWjmT3wqUWpM2nFHTfN0yt5xguYzTmIN1Ck0t1r/KHmg6i3TMEHkQaiCwsvodKxkhSSm3nGy9G21f0aCmgp8nSAyUOOKQul+ZFOOlYLJxlOJXqgJOXKEyriW5RGKOhPydaC3nC5VxSJtOKOm+bplbzjBIcLgULikBWWRpBZWX23MQbqSKU1r/KESqwEdKKpeU4N35Vaj7Y6iPYIlje/MODqqCKf4BBB0P7kBBFQa/uqZcULG0HfcNB2DiYQlKEhKRkPgpyWZQwjcTUvoqac1Ra0y9uI3ljRI+Tx+2HpkhFUJJOKhChyqYLoTYCk3K0TlEypt2WQsembp2G8DzTLiHWmVBFRjtWq/wBcYwqsBJNvWpwjaEEpCN6qLsuXOEzKFKbACt9u9J4Ef/GNrQGQ7YumJYew3WxtAvWixdyRWmWhgTLag1bU4iapHZzgzaOi3Vb6yj2KHAw7NEI3EGoeQhXZUj84xRclNpuIrblCFXJSqlKjQ/BA4MwEf3blbexXHv8AMJ1JmtnwXL6V4ac9fgUT2I462mXdubpcN3j9cMzDbpWkVC09ZJ1HwKlBIKjkBn5pubTKN4i0LKeaaQqaKFIC5d1NyqV3aVPsPwzzoaSFFJIuAy7TT9RBv8ovH0TaUj/Xn8HONPOoQlsJyWlWZp1TWFNLLzbopcElJHCh/lBlVlLpqL1uoX2blMvshTbxU2bshdcmtK8o2V8S+ELPjbxw/bvjUZwZZ/ZmmU2dGpFCeIQYS042p4ot31XZ8DSkMypl1Jw8xhJQa5dWFNOYrLopVKVAjTrU/KNmmNnLe5XHv1+ffyix7aHHLUULaUjPlXs7Yak1oTKlVhU21hkcIWwurFiGwEu3nhwI/GDLPHH6m88hxOfyKflDsuXaYiG1p7eB7IaSUNoSVVoNfgvKGUqXBq0oL7ovT8oQ3/X7n/S/jCHJhU1PtYxtbCbchXeFYVMzZ8nMTaV6ULgAGY46xNTjiGHplpdyN1KBlbU6mP6XiJTVdhSaqNlUq7KRKuzzkkiYxhXDXukceEbc4jEuDoUllSrFgZ05EQy5OFMq5vKC6X1tAAPLzSP9YeVfptwf66Kk6Jld/vgTcwfJu24metlN3WkbS47OIYSSgYGITx9kTDk0wmSq/VSplKF5DMGEuPHyg+ximzBuGmRMJnJv9FtTWLvXaUFDvUgvPNzyWiu5KmSrTiOUMTM69KofSCSVdXdtpXvhDkwqan2sY2thNuQrvCsTbzr/AJES8VkE0rTjnSEaEYhUQc60/CPL39WufSTCWpgrfDq8tywpHLsNYYmZwyCZxTl1G1lSKa0hp2cKJZyilBVL620oeUIm5lfk1c5iUO9RFMhTKFPvib8nJxN11KrxlwTWHJ6YZT5RN1+GtARUaXQNrxUp37FJNVGyoPZSETk3+jGZou71+lBQi6kLecVPiWCrAGbyeJzpSJszrEql3HqUK6SiRmmGVl1xbiXCWsgkZUPbA45Q67asjaWU9itfvht25YG0Mq7E6/fE9/w//da/jEJW44qY3rcNVo7q1MCadcQhYqm6XvFBXePCGr7E39amfZ3RLf8AFT/+Yn+EQ4pSRUNqX2Cn4xtDvqb3ejxRtDvqb3ejxRtDvqb3ejxRtDvqb3ejxRtDvqb3ejxRtDvqb3ejxRtDvqb3ejxRtDvqb3ejxRtDvqb3ejxRtDvqb3ejxRtDvqb3ejxRtDvqb3ejxRtDvqb3ejxRtDvqb3ejxRtDvqb3ejxRtDvqb3ejxRtDvqb3ejxRtDvqb3ejxRtDvqb3ejxRtDvqb3ejxRtDvqb3ejxRtDvqb3ejxRtDvqb3ejxRtDvqb3ejxRtDvqb3ejxRtDvqb3ejxRtDvqb3ejxRtDvqb3ejxRtDvqb3ejxRtDvqb3ejxRtDvqb3ejxRtDvqb3ejxRtDvqb3ejxRtDvqb3ejxQ26tRILDiO02/gTE8P6DNf5S/ujFd5QJOXD2MArE53qgSbAW6sBVznX3lZw1LstNYSE7nKtYDDIZwbBh0pbAlmgNFaU6xy9kJlJdDJZSjoz+zUmAw0DWhOVMyTl9cIlmUUtSctBU0HsHmTIy6VLUm8FXWOIrP7YaZaarYmlTn2+2NjlvR5VrbU219mkOMNOKSpSd5OhrQ/ZCpdlSAgpyCru2vONkYxMS1V5TS65Wkfo+UwcGw4YNbblRsrOKh2ir0igNx0gSrA0TxrSpp3QJNgLdWAq5zr7ys4EnLiXLFnRn9kmsIbSgUH2mv3xMSrMwm11JI5VI+6A2kIKd6n0jXvhmXaZbw0J3OVSfvhEsyilqTloKmg9gidkkmVfSy0bl8AaCv3QlhDjbGIghSBlnmO6BJSwLhw/jOvmTWBLtJ0u5dY5eyP0fKYODYrDBrbcqFy7SyglJqnRVTXvhxLo6NDKShSFVqeJ5w0ylplLSdEppEqhaGQFJoak95r53WkOpAWDStdaaeyFMtmuWooc9fbDjFzlSF22gJsVZ36QwlxLdFk6mldacKwzuz82PlpbWP4fwh/4lzMjdOhp90JKwh+VdWq5KCULrmpP/iL0Ioip07VGEqCgCk1B8xebz3uNOzvgqK5xTdywEoQRT2n8oUpKQVKNAIvrPIoVfErqM+BHAwHmyRvamgMYzdaV407K8oM0ylDqiTRs0XunKC+2lwNkm4ioy1gTLJpv6mle3lCnm0VuVpr2e2DMNBa0VNyRUih0jaUYzaBUhTZVUCvL84LqBx4gacTBhLzR/a4V+rnCXWzTPXMdvshM0woAhWV1uh10pAmAZhxq05JTwPGsYzV1CrjTsrygODFeF5NqQbbdPzhEyysN2q6/Vy1gTDaUzC1OEhCs93qwHUFVoOdK/VG0s1G8TWtMjnSJl3BYccpW1JMYqAmpyzpoRCpllIqVft26HI9sbSzubx3lFIyOojaWQFEq6vWyOXt8zK7i6LyaL5Up2R5SNJJ4DVQsH+rKNmb/AHTM9G41MU6mS/on8ofuwXLU3EpOX84nGFvtBaBa6nNNfuPtixaJlblLgtCR7Lfb7YYQ40hKSmtzi1Kz6t2fmMu7sr0vSt1+99MwhLgm1qKFWlpCbsuBMTLSnWqJ1CkqpztNYUl1U02rDIThLSTUZVpAYd2ZiXtpYW6q+hyhlpSEqbU3d0qlBXDM3d8PMvWT6Uori9XMfItgh0zMuvBVQNrB01NIw39ntwFV2m/UaYl3ONnIVM3IUpLprrThShgJWmacVhG3CSkacKwwzMITKdHmhgtnTXL8oUwvEUtIUhWJwVukdoiZaxZd1sGlyCO+HWlPsLQW7FFopryr+ELQ44uXNltirj3UoIw39mKcA3bTfw0xLucWuCZUsJyUhA9lpNfvhbL6kq3M8cLoKAUCvvhIdE04stGmCgcNRX84bafSz5PTgmrR39PklMONPFvyiA0el6mY+RbBv2hheEQlLSgo5ZVp+UM0QGCtp0JR1FZW732xMtl2XeQNVNkD64dbdcLK6HccrbXOlKQ8ybDYwokutqVn8kjnD6XFLlSGybXLlaZZEQ408W/KKQyau9TMfItgGoGVOyGErD00VIIClgjT5IEOjGmW2/2Wzer2/sj8f3VrEtklaeCXFJHsH9sDLeQpkOFTTL9cxK/ENnipIUrtKvN//8QALBABAAICAgIBAgUEAwEAAAAAAREhADFBUWFxgRChIDBQkbFAYMHwgNHx4f/aAAgBAQABPyH/AJFkHEYbISRC7MOdEtw4TcZ4VdKYIwt3/ZonKaP777lMMtqJ/vdYWa8iP2Jzk8khML4yMMmaPBzwAnSplsGJBgAHHtiSIifF7DFSn9krsdn4hE4kj6QQk+2M4kgEBsRPjETLLMjZQrI4GRI6tqRUZYy5C8xB8l46qmGyqrXufP8ARJu3QGdBi7x0Y6Sl0aE6/DCrI2pKYcOGJC8tCVrg/KSJLYLbzXx9UeAyhQO4B/J4xnnkMS9Hn9RJBR/BwCyQDCkBbBvDMGpQsbNJhqr9KAS9wWZt5l01jDw3nFZFkdGbpRLvBUfan7mMGQwUVGSViYxpSKgIdu3DgP31A3F3vW8uncaE3F04t8mECUE1vBekPrkWNl6wBlDmwgn3eGDaIkokFGpY3jZ1qMECrSz8ZDqodg2F8YyRDJSRBDe7yawHSSiMpazxZrKEo+LswBJ1iFIhTYM5eThi3nIlMCA0i5QdayqZ5XjWBxAbKn6rJA1qoRQxbW2SIUYUQyxd1lnCEBZojd4WmGgQ2N94ACVuScSpp/qdikQi0VcDBuWXQLC1UfhZ4xZQ3WRWXxyaEcVIBGz3/QCWcDzOTY4dO4yGk9eMEyonGywbI2YJLY8bQbSeccUPw/8ACEYoygbRL/jCk1ZjMzNBhQqKKQydk8Y/80Ic10Dc5K37cLTTPfzjgHkZQio9F5KGoRFbxJ3gprGkWCJ1T6yAVwzUGpFbvOILegyJVCVkbmnYlrfCZraCDCUREQhYbSPeQjcv8T6GM5EIlEv7ZuowCndJKlyFaiLYmpIipykjSTR79mb7yQqWBIuUekyB+uDDUYjd5OEg+nb6OSb/AIKUyFAiIYUSk3Ai4qMjIYYapCZrxiFElCtZ8Tghr7ALN+P6k7DkEyRHRivAuSWKgR4xuq+TitwQ43jftJNHqMPBktJzU6rBmZAC6zLy8POSF5CWpytw8DXAnDDChJFMDBX7+QGU9MevOpQZJSVq6WsNIIN7NgaxeU0XcmTjLu88SouUhPeACibjjUsw5yHaStqPeV3Y5ucSL/vAKKXhHCf8YvsyHSAWCNaxkoUUooeUOM7xalD8NQ5LHChs6n/vOB4GhKRuHKGFKhDZfHb8Dt277r8CBw9/xO3bt27MYnaR98mkRJEYT8q7du3bt27du/4Tgdxx/Kdu3bt27du3emO0in5/Q5ZuE5BDS/wkBIU2cZDONDIr72u3Fp3WmXl7ivnJRCOvydpaR5/BWjT9ibw31+AujhMRAlsHCTgftlAIkKQlCI85YG5dErRK19LYAArXsSJHned7ePOlurODMOZMjJY/H0REzjgA04NsYLbjdByMDqMEKQBQdGXidQWhqPGDphKxrKRTeDjMQB3qRroxPfG6kySlbyJsvMTCM+1McGCViIIGkfOTnjylFHFuMdbELUgR6aYiNahtMDEWibiR+0YTEQJbBwk4H7Y0HWW2FSLYwUEw89ohqsAsRq3aDiyt4s9vuIzp084VrPQ7IHN1hIVpQStCMOwx0ClSYwTBO8dGGkJqgkiqP08JSB4Uk/bN53oVpG3vADZIbCOSvIRgJq1DhzdVOAa657Rq9t4XxOJlB3ZrBIEtdmQzM4l5D2MLVElq2QxARsDKIJ7Z+iwpLOQzVbLJyAJSdPOHk+gnOGiEu/s6wCKjQe/bf8YWPBzeTE5PsMSbRWdMHmSSciikulyrMMQICcsHWNYfdufZRliWYk2iszhelgE3LH743OaUIx3NawA2SGwjkryEZDIMVKpR8HOVwO9KaiebyeHEzPZH3ZDvvz3P2DA43nMYYmTeVzJ9zRXdYl5GWhzBOaCVd7tYMCVwa1MEp9/7BloGGGOzj9D1gIASRLI/SqHJd1E/Ga85C4o/KimY4kqc3k5ADqEj+Hths4qAsxH2OMWF5Fb5jD6nkFg0+jrpSMjSzqcT8Q5ZJjy+DCWDLXvqSm8R+GrwI++Jg1xBPMk6nNpivzFjMcRiDom20dtbwO3BQGzNnhx8rGqH/KGErOeRAx3GWYgOhJ4fym79eHY9C/h+iiun4jY/JDSairDpk0la8Ta9nk/JS0GpdAc/S+NQ6EtTKOAcCLkNEyJ+cqiPYUxVl1f4JLdO8qf8H5doCy/QUOAFf6yUaY2Y8xIuyEsxezWFjyCw15xWV1saE3D6xBQbIcIo5KEgkmm4M8squM+LKx8REzVvCN96xjDXkhsk3jleozBPvMDPAxOZavpggJMVUVYxTWTdBCLtVgt7Y3OFFT4WucqgwKFFHajHrMxVrH5Uy1D+cv2rP/Uz7H/DI9arpNLVmIxGR2NhEG8RaNAknti8IVF44GnknpyVWqECWFJHzkdx6vHGx2HOR8kNVMzFmunZ9P8AcdON3IqHsDigQuYqFXeSksxBasbCBhVIGCH9JvFJWU3kVX84NsmSkPLWL/jeAi9DXvJx0tccUlbBketV0mlqzBhPxzbnKpipWTEwwDnP9V3gqlijAWsiWG8IWIQ2qMnq8iGlGEDMxZrp4yCaFRklDyuERadsxGdmceKUeyA1jDlkxw9PJPnL0kRviUcf1CcFKRIkZKocjd7gRhjIKICtGwxMYnZF8x++aQfFI91zvi1W+/NGGbEcNAyxucXxlHCWR9R+DnLNsgli0WfLIrxceQtZO0vu4fofr169evXr169evXr169evXr169evXr169evXr169AzAkVH3mf7NyzysUVKOpMxvWQYBC+JzxxihBFJoQ8WtYCMa9ZGRY4CXQ9lkx3kCKNDwS1lziXOWwkwOVcCma9wwZvBgi4RYalwKTsPau02vvFBNstxtN8Oo4NFPEwY8ZPzILQFm25wNkJEEvkzlXXDlb7xbdDX/ZOLq4MxCfdoyDAIXxOeOMKc+YD4lkxuLbKol8tnIMn0nyInJwpHK28mclyO0JPs5VwKZr3DBjJ1m6+YUwpdZhYhhfOE7RAQe4sTh0DREuh7LXxlXWDSd95DCcEROoM5W5h6PMtHa7zV7Dw+/eWDsEyDNCOBYPquQCAVlJsc4ul8AiB4b+cVYpMcOyDLxxkihLibaLlME+/9gWBNoGFEQd2yNTzM4rI70c26Sho9u35cDrYE19BstJGGD06YpY4VBVmWLEhhsNhWDKs4ssSYb2W4MHQDC9Dpy3xlsMFpOp8YUV2BROonneEIPCdDcMRU4EykeDHGTFM8OPGCI1Un24+cQsIkVtJVlcYxYWWBJhCYWRVNhJwE/OIBVgyFjZlRBHCdnnFwORYJD23iJZXJVbJKZ7zcVo1S+XVYkIjWw/I78YNs4p6M2MbYySglyO1SbxEV94mBiIlOZw9ZwkJMoknZ6wQBGg3bEF5f6GATo/jEBkMEoXoElwe4IPkNHT5xNCD5rcmt1jGSOOR/h7foJzY0XrHhfvF4Yzy6/fPd+kmD5Iv3/lDlO4gCFp2oxLU+lyQxSQMg9wqJKT4U4m4IwIKf/mvoE0zI0iGZeZJyFwgmyx5nnCEEMVECD7jO6qVTRU+OMlaQEpEMZ8mMDgZJCqy8wy/uWcBYgzzWRtHmarE34y71t7b8MAGhbUl3HXGT1ZZN1tLfPOIygdVQqtNmFtoGaM7niY6xJtFvpGH0lrDToS7GJxFrhlnU985BbVc/wDms9fv9hL4pGTyIGkhmfKDnJotJHfaF/djPhMJrEzd7yT7CcmR2qzAWomtzZN4dLS0Wo006k1vIr721Igx3lwYSbsYkXGxQxFUYrLo4widvKO4+cucw5NO1WYylU2iT9sbKtqpDgr1kBf7uf64/SoKOnKDrHrQfH9XA09YMkyCSBsVquPx6YDuqdKVfp//xAAqEAEBAAICAQMDBAEFAAAAAAABEQAhMUFREGFxIDCBQFCRoWCAscHR8f/aAAgBAQABPxD/AFFpbgu39nWCPMoNbSfTtwQcsI6ENp/w3Y730b/OGCN38Xv6GboGg2nHgy6EN5d1kSl8V1e9ZMA/NvPLTXliZHvaTW1RAp/hLUQk6Sh7xcWy7Kjr8yc1/wDRc9GN4rxilMUBS9YYh6yZBBSUyv4j7AjG5HO94y9cmio2OJj7v0R9B0uBIT0YNih82AaBr6QkGAiLBTwkyxS4a2RBYc4Ilv2SeuGCgoHcHq7rEJHKUh9kRCNveDskjVilOYHX7jMtge8M2CbGyIwyzaxf2wLIxJBOatvtBiWEuwkffcEZVtxSlMS1/iLzxBiuaHzq0uzg45wFnvNAwMdEaOr0c8KFI/iFj5Z4YEstTP3+5Y78ZyP6J0kzUkM9knmzQenvW0EUwy8JeWWaTwKlxcxIG2tQleNM2+K7TtXXV1nNd0eut5EXAInDjaMeLnTVow3H2JUpnu3E2X7LvH0Vhdih11Yj2HDPuoypviYv9x51z3vw4RS5weVgT1z6DaRaZGlN1QhHDksqhT5scFKp06hiH6mdBjmvuNLTl/ZCqvp0tA9UuULazShQwwJ4QjgcTZv+gLR75d++cYAKOvCeA5CokTI39Hrl2gOjOlyftks6fEygbr3UI6NWGJII/KYFYAk1QnR8xyXR63Uuu095yw03xXUWVYTjBOEBw1cWo8sr+eS0wGhLgHKlzvHFyAy4Ov4AFjCWP1Sg1cL5yv8ApDIFAIMRbDXofmPeGABBbOA0Z88BKzAkedEXnETPVgxRPRe4wGbbWnDs0eQ5MJ27lL2tKQxLv/05aPNG2qwVZdAVkEIMEvWimAuEZMt2TTYHdjcSCayLjWhk5qYiSHAt5mLqVHydr7zhWfNDZxhwwSqpnmvbaT9Sa+2yFvxr2XiZ+U4l3DW9ujpS7zVA4PbeNGAp+BbHu46cjqjt58nJhApANq5PdeaDxXBdNrw/mWTZiHnAde2ee90iRzVwE/KU4G8Vx4Dx9TY5MqAr/P8A+ereAPUQSm4wc2yiS5DxTK33VTnvLRCEtxvGnGX9kqeAKDRS42PK6vHIQpcN3rsPrinoF1I67+bnC9riot3ydt3ziZeTUXrs+hChQoGueUZLT6kKFChQtkWLtzRvAfnFkt9faQoUKFChQoULaL7YYcftZChQoUKFChQnKnUJPO2/sZpP7sMt30kV4DmT2XOvmUvtpeywssbEhAbPAr4Yd9OMIfNgC6/QaALQvSr+UMmTNvWBnNcgJCPlJ3cb3rOsKLfCREVslUaEfpbdFKFCWhh1wxEcNdH9ssmEeHGugkO2J6Ldg5cCiNOKrlIvt1BglhNEjQQ0Yd4iCUQQ40MODHU2QA/CiYTHsDbdNxMGvPDIB7hrxcTgQr+b84Hn3NS0iFAXIcQbqX1x4ZMvTbeIow9gueGlklLdbXLi/wDEvM4c1yAkI+UndwcmgC3Ux00YhqmyD7Qbhmibh/tg3Fs1NeL5K5pGK1jCEoUVZ2AWH1ZVPguNUzKQQHq3coxBGw2D842p+O1VBr+3pXN7An3ouafSWkrOcuGH6oxiniR1vG79hQH5IMTnJS/Ou824eKCrSVOuYMU5SKrT4R1lN2N3tloDAHBf3Ut6Kq7wEAWvbh5NuXgApTjXayKcZOr9Es3JiLt7U6ZO/wBGR8Hn8RlKidIfnOYoP/XrKAzfGh4DDOYTFk26vKXVTm6ha7hxuOMVjUIKOHhMUODKgi3wMIzAELqcq5YfqjGKeJHW8N/qUI7achqs5WIPIIUDbmn2J0nk4ay5BPbg/Osd7Wet6LaFd4VlR7e1ATYdZJrSqnKHUeBC/gEXNDa4LqZRseB7Jv8AgPM3rLORfsagVYHeGOMjRcInJ+1EOO9v8lP5AyI6wcvyrtV2rtftOi9/7a8AgjlyxekGjjkMfMjDvDe4N6s3bpPfCfyaniyoFusaUGOi+7jD3uNKAOZGCOEDMPRzwoYkWXJ3M5po6xIdRa8wLfHimvlMh5EuWWF5SEqKwBGaYfiBzqobkwy1vzDmBWQ/UTJfcesEYR4aWw3H7UoSK6Ol8VE8+gb4O+tdv2LdoKnAd5b1wOabORRaOylThOtD9lGYTQOq9AICK25AZgit+VJp597gByzqIchx9Bag6wGL/H21mPoSuBmMqXW4HtVxJuxOBf8Ajcpm9ZhXi7YNh1gxHvTnVsk0hIHzzvNfpdfdEnimqC2zwQuK9YY/swXGHK7huGGUNCcXCLrvjUeph1FwH8fix5qsUnyqZT05UrA84cIOxj8O+eTKalzr4GzWsd0RDAlV2/adNS3qf8l4/wDHemNfl2X14uBv/FThwWR5ikAG2DDGNzDNEbvw7UHC3fjf3GuzE376ztNGAZ4I8wb5rij6nPbQB5i849vJifH8o/8AEmXOUEyYDtu0SMrwji2xY7F9XVcTliGp+MxNeMUz2nhzEGxcX5dl9eLgJgsxacHXzDigQI0OvRfRj2B4ikmGQ7yd3S+2D78ne/suKXA6lWf3oyXWaSQRIybFJsj32hiTcLX7vjk0HCJczporP5xfkKwQB8oc9D6ycmBIK7zphvkcW6LJSp4R4wSYB4KuA9niodXT6B5X+kwouzXGMnJj+mG/+6ZJa+fqiKAQxYI+Whlpy6iJHwbDuzx3Z47s8d2eO7PHdnjuzx3Z47s8d2eO7PHdnjuzx3Z47s8d2eO7PHdnjuzx3Z47s8d2eO7PHdnjuzx3Z47s8d2eO7PHdnjuzx3Z47s8d2evjCet4xLIyenATG6bqRU1fbxhHYgkg17PSOMRqIvtLtD2Y4tHC/vtx9ztOiJP8OeaZLY6KHONJjFi8KgoYptiK33CfUMSE3HwzF+6uC/FhWDzV/yXusOH3cU/IN8ZshoGvmGo7xpT0ZjAe95x1UPGTBvMIs5fIvFIuaFh1wt784xlTU3aOJHYgkg17PSOMnl0m27ysIIrsOAVSmAup19t0DFe4C/wsP8AON99AcuUJRxTbEVvuE+oZTJo763nAm9/r3r23ltaMH/by93OOeXkt5E354IoIdKuKzGsikYzHuuXd5yq5q9s7Cw1pMNkI6dsFQo8I3AKHseukNjPi1GgJlX4l4OhT44lZovSux+nbBXhsCV9AM1WovuTAWJSG6wiGHGXIZ88vhS1USwa7PArkUqj0JoBdMfAhw+A/wAOYwTthECs4PNwr2y1g6ydiZqQIgj8w0xLnb0Q9DCphh902EHeFA9MHEB1rCKjCmUnFmzXUOFhQzYwHFAh7uIQX5xXS7TeFGl/0LcaTG/tUEYEBDYwSwFV0BltpgKnVIBTFH7aHdrD+uFQKIc4MuhMJgdyyEdOPK4SlalHxZ4drkaNzXjdVTqyYuzTxGaojTrANxWY6lKHFuFa5cJxAU3jgXE35OE+2Td6Cb234wcuYOF0GTLBWDuYaXOm8VQAB34C2Q76xoHwuT113fQQwtua7cTumKTyeVJx9/8Aaa6CT+Wu/ElylB37iCAZF0cd8zPiWEj4CvfYuDTYgSDy8hT0LbT8Hm/g0KwrFsnhzcs3FFW64MEZu8i+Rx88LgiK3zcxutjYQoDpXG3hwocUZWbFV3dRO/OzJmp8l7bPkvhIJ88fetZecndXhv4O8brrRb6zrndn5o9sKglFzwaOcVxfjBr4N1LCneZd8Oq7sZvdhb+m72zseqrsOG97FZPFDd3jvasyGO7aln4nBK6Ja7nyssh2Ts/kni/CJAeN2Zbkk6VDDvJDFjnvCJVwruJeQGAlN4utudbMM4wxwPG32+ffXOfg5ouKGtSbtHhtL8OezAqYeTffObgF60n/ACvj9qWStBM6X5B60b1X6tBCirg3rrYRFui2Ovr0fw5rf3yg+nf/2Q==)\n",
        "  "
      ],
      "metadata": {
        "id": "8HnHwUkfw5Cb"
      }
    },
    {
      "cell_type": "code",
      "source": [
        "from sklearn.feature_extraction.text import TfidfVectorizer\n",
        "#Entering text\n",
        "text=['I am learning NLP','I will learn NLP in 2 months because i love NLP']"
      ],
      "metadata": {
        "id": "BciIPfY7-baM"
      },
      "execution_count": null,
      "outputs": []
    },
    {
      "cell_type": "code",
      "source": [
        "# create the transform\n",
        "vectorizer=TfidfVectorizer()\n",
        "# tokenizing\n",
        "vectorizer.fit(text)\n",
        "vect=vectorizer.transform(text)\n",
        "# summarize &\n",
        "print(vectorizer.vocabulary_)"
      ],
      "metadata": {
        "colab": {
          "base_uri": "https://localhost:8080/"
        },
        "id": "iOqliRGtxO0S",
        "outputId": "128d511e-dd3e-4e90-b9c4-2ed64a55251a"
      },
      "execution_count": null,
      "outputs": [
        {
          "output_type": "stream",
          "name": "stdout",
          "text": [
            "{'am': 0, 'learning': 4, 'nlp': 7, 'will': 8, 'learn': 3, 'in': 2, 'months': 6, 'because': 1, 'love': 5}\n"
          ]
        }
      ]
    },
    {
      "cell_type": "code",
      "source": [
        "#  generating output\n",
        "print(vect.toarray())"
      ],
      "metadata": {
        "colab": {
          "base_uri": "https://localhost:8080/"
        },
        "id": "T_eRtJ1axavq",
        "outputId": "8826f96c-b48b-4b9d-adb8-6436997df3cd"
      },
      "execution_count": null,
      "outputs": [
        {
          "output_type": "stream",
          "name": "stdout",
          "text": [
            "[[0.6316672  0.         0.         0.         0.6316672  0.\n",
            "  0.         0.44943642 0.        ]\n",
            " [0.         0.35300279 0.35300279 0.35300279 0.         0.35300279\n",
            "  0.35300279 0.50232878 0.35300279]]\n"
          ]
        }
      ]
    },
    {
      "cell_type": "markdown",
      "source": [
        "##Implementing Word Embeddings\n",
        "\n",
        "Word Embedding or Word Vector is a numeric vector input that represents a word in a lower-dimensional space. It allows words with similar meanings to have a similar representation.\n",
        "\n",
        " A word vector with 50 values can represent 50 unique features.\n",
        "\n",
        " Two different approaches to get Word Embeddings:\n",
        "\n",
        "1) Word2Vec\n",
        "\n",
        "2) GloVe\n",
        "\n",
        "\n",
        "\n",
        "---\n",
        "Here we're discussing word2vec for Word embedding\n",
        "\n",
        "\n",
        "**word2vec**: word2vec is the deep learning Google framework to train\n",
        "word embeddings. It will use all the words of the whole corpus and predict\n",
        "the nearby word.\n",
        "\n",
        "There are mainly 2 types in word2vec.\n",
        "\n",
        "• Skip-Gram\n",
        "\n",
        "• Continuous Bag of Words (CBOW)\n",
        "\n",
        "Here's the code implementation of CBOW technique"
      ],
      "metadata": {
        "id": "WxqD8P3C1EEx"
      }
    },
    {
      "cell_type": "code",
      "source": [
        "sentences = [['I', 'love', 'nlp'],\n",
        " ['I', 'will', 'learn', 'nlp', 'in', '2','months'],\n",
        " ['nlp', 'is', 'future'],\n",
        " ['nlp', 'saves', 'time', 'and', 'solves',\n",
        "'lot', 'of', 'industry', 'problems'],\n",
        " ['nlp', 'uses', 'machine', 'learning']]"
      ],
      "metadata": {
        "id": "Rp-VIgmQ3UZ2"
      },
      "execution_count": null,
      "outputs": []
    },
    {
      "cell_type": "code",
      "source": [
        "#import library\n",
        "from gensim.models import Word2Vec\n",
        "from sklearn.decomposition import PCA\n",
        "from matplotlib import pyplot"
      ],
      "metadata": {
        "id": "OOyXxEU49aGI"
      },
      "execution_count": null,
      "outputs": []
    },
    {
      "cell_type": "code",
      "source": [
        "# training the model\n",
        "cbow = Word2Vec(sentences, vector_size=50, window=3, min_count=1, sg=0)\n",
        "print(cbow)"
      ],
      "metadata": {
        "colab": {
          "base_uri": "https://localhost:8080/"
        },
        "id": "w-46twj99GIO",
        "outputId": "7114af07-94ec-4ee4-9c7c-6c5923dd613e"
      },
      "execution_count": null,
      "outputs": [
        {
          "output_type": "stream",
          "name": "stdout",
          "text": [
            "Word2Vec<vocab=21, vector_size=50, alpha=0.025>\n"
          ]
        }
      ]
    },
    {
      "cell_type": "code",
      "source": [
        "#access vector for one word\n",
        "print(cbow.wv['nlp'])\n",
        "\n",
        "#save model\n",
        "cbow.save('cbow.bin')"
      ],
      "metadata": {
        "colab": {
          "base_uri": "https://localhost:8080/"
        },
        "id": "rRBvwR0G1KIf",
        "outputId": "dd004c03-7dd3-425f-cefa-f257dbebccf1"
      },
      "execution_count": null,
      "outputs": [
        {
          "output_type": "stream",
          "name": "stdout",
          "text": [
            "[-1.0724545e-03  4.7286271e-04  1.0206699e-02  1.8018546e-02\n",
            " -1.8605899e-02 -1.4233618e-02  1.2917745e-02  1.7945977e-02\n",
            " -1.0030856e-02 -7.5267432e-03  1.4761009e-02 -3.0669428e-03\n",
            " -9.0732267e-03  1.3108104e-02 -9.7203208e-03 -3.6320353e-03\n",
            "  5.7531595e-03  1.9837476e-03 -1.6570430e-02 -1.8897636e-02\n",
            "  1.4623532e-02  1.0140524e-02  1.3515387e-02  1.5257311e-03\n",
            "  1.2701781e-02 -6.8107317e-03 -1.8928028e-03  1.1537147e-02\n",
            " -1.5043275e-02 -7.8722071e-03 -1.5023164e-02 -1.8600845e-03\n",
            "  1.9076237e-02 -1.4638334e-02 -4.6675373e-03 -3.8754821e-03\n",
            "  1.6154874e-02 -1.1861792e-02  9.0324880e-05 -9.5074680e-03\n",
            " -1.9207101e-02  1.0014586e-02 -1.7519170e-02 -8.7836506e-03\n",
            " -7.0199967e-05 -5.9236289e-04 -1.5322480e-02  1.9229487e-02\n",
            "  9.9641159e-03  1.8466286e-02]\n"
          ]
        }
      ]
    },
    {
      "cell_type": "code",
      "source": [
        "# access most similar words\n",
        "similar_words = cbow.wv.most_similar('nlp')\n",
        "print(similar_words)\n",
        "\n",
        "# # PCA transformation for dimensionality reduction\n",
        "X = cbow.wv[cbow.wv.key_to_index]\n",
        "pca = PCA(n_components=2)\n",
        "result = pca.fit_transform(X)\n",
        "\n",
        "# # create a scatter plot of the projection\n",
        "pyplot.scatter(result[:, 0], result[:, 1])\n",
        "words = list(cbow.wv.index_to_key)\n",
        "for i, word in enumerate(words):\n",
        "    pyplot.annotate(word, xy=(result[i, 0], result[i, 1]))\n",
        "pyplot.show()"
      ],
      "metadata": {
        "colab": {
          "base_uri": "https://localhost:8080/",
          "height": 467
        },
        "id": "aug1fhmt07_x",
        "outputId": "fc126afb-76bc-4bd4-f00f-e7a4a8a6a6fd"
      },
      "execution_count": null,
      "outputs": [
        {
          "output_type": "stream",
          "name": "stdout",
          "text": [
            "[('problems', 0.27079451084136963), ('solves', 0.21074171364307404), ('machine', 0.16704076528549194), ('and', 0.1503726840019226), ('2', 0.13204394280910492), ('future', 0.1267007291316986), ('is', 0.0998455360531807), ('saves', 0.07082214206457138), ('of', 0.059367649257183075), ('industry', 0.04979120194911957)]\n"
          ]
        },
        {
          "output_type": "display_data",
          "data": {
            "text/plain": [
              "<Figure size 640x480 with 1 Axes>"
            ],
            "image/png": "[encoded data removed]"
          },
          "metadata": {}
        }
      ]
    }
  ]
}