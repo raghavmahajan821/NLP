{
  "nbformat": 4,
  "nbformat_minor": 0,
  "metadata": {
    "colab": {
      "provenance": [],
      "authorship_tag": "ABX9TyO8WJ8144tb+QUEJSrmSv4X",
      "include_colab_link": true
    },
    "kernelspec": {
      "name": "python3",
      "display_name": "Python 3"
    },
    "language_info": {
      "name": "python"
    }
  },
  "cells": [
    {
      "cell_type": "markdown",
      "metadata": {
        "id": "view-in-github",
        "colab_type": "text"
      },
      "source": [
        "<a href=\"https://colab.research.google.com/github/raghavmahajan821/NLP/blob/main/Data_Extraction_pdf_json_html.ipynb\" target=\"_parent\"><img src=\"https://colab.research.google.com/assets/colab-badge.svg\" alt=\"Open In Colab\"/></a>"
      ]
    },
    {
      "cell_type": "markdown",
      "source": [
        "##Extracting data from pdf"
      ],
      "metadata": {
        "id": "DKAtUz-7dEs-"
      }
    },
    {
      "cell_type": "markdown",
      "source": [
        "Importing libraries"
      ],
      "metadata": {
        "id": "gGlaz29T0rax"
      }
    },
    {
      "cell_type": "code",
      "source": [
        "!pip install pypdf\n",
        "from pypdf import PdfReader"
      ],
      "metadata": {
        "colab": {
          "base_uri": "https://localhost:8080/"
        },
        "id": "QcRRl_F5dE3-",
        "outputId": "0ee4b1e5-94c9-4b22-dc3a-47b5a4a47245"
      },
      "execution_count": null,
      "outputs": [
        {
          "output_type": "stream",
          "name": "stdout",
          "text": [
            "Requirement already satisfied: pypdf in /usr/local/lib/python3.10/dist-packages (3.15.5)\n"
          ]
        }
      ]
    },
    {
      "cell_type": "code",
      "source": [
        "obj=PdfReader('/content/Gndusyllabus.pdf')\n",
        "print(len(obj.pages))"
      ],
      "metadata": {
        "colab": {
          "base_uri": "https://localhost:8080/"
        },
        "id": "ukR1dT1OdMpL",
        "outputId": "8c2f4b2a-0162-4c23-c286-b6d5e9cfc4ba"
      },
      "execution_count": null,
      "outputs": [
        {
          "output_type": "stream",
          "name": "stdout",
          "text": [
            "59\n"
          ]
        }
      ]
    },
    {
      "cell_type": "code",
      "source": [
        "page=obj.pages[50]\n",
        "txt_file=page.extract_text()\n",
        "print(txt_file)"
      ],
      "metadata": {
        "colab": {
          "base_uri": "https://localhost:8080/"
        },
        "id": "scfzo0uddlg0",
        "outputId": "2de40f5f-d705-4178-8f0b-19e4e63e5625"
      },
      "execution_count": null,
      "outputs": [
        {
          "output_type": "stream",
          "name": "stderr",
          "text": [
            "/usr/local/lib/python3.10/dist-packages/pypdf/_cmap.py:177: PdfReadWarning: Advanced encoding /SymbolSetEncoding not implemented yet\n",
            "  warnings.warn(\n"
          ]
        },
        {
          "output_type": "stream",
          "name": "stdout",
          "text": [
            "50\n",
            "MASTER OF COMPUTER APPLICATIONS (MCA) (TYC) (CBEGS)\n",
            "Batch from Year 2021 to Year 2024\n",
            "SEMESTER –V\n",
            "CSL639:Natural Language Processing (Elective-IV)\n",
            "Credits\n",
            "LTP\n",
            "400\n",
            "Mid Semester Examination: 20% weightage\n",
            "End Semester Examination: 80% weightage\n",
            "Instructions for the Paper Setters: Eight questions of equal marks (Specified in the\n",
            "syllabus) are to be set, two in each of the four Sections (A -D). Questions may be subdivided\n",
            "into parts (not exceeding four). Candidates are required to attempt five questions, selecting at\n",
            "least one questi on from each Section. The fifth question may be attempted from any Section.\n",
            "SECTION –A\n",
            "Introduction: NLP tasks in syntax, semantics, and pragmatics, Applications such as\n",
            "information extraction, question answering, and machine translation, Regular Expressio ns,\n",
            "The problem of ambiguity, The role of machine learning, Brief history of the NLP.\n",
            "Linguistics resources: Introduction to corpus, elements in balanced corpus, TreeBank,\n",
            "PropBank, WordNet and VerbNet. Management of linguistic data with the help of\n",
            "NLTK/Python\n",
            "SECTION –B\n",
            "Extracting the data from text files: in HTML, PDF, JSON format; web scraping\n",
            "Exploring and Processing Text Data –stop word removal, tokenization, Stemming,\n",
            "Lemmatization\n",
            "Language Models: The role of language models. Simple N -gram models. Estimating\n",
            "parameters and smoothing.\n",
            "Feature Engineering: Converting text to features, implementing word embeddings\n",
            "(word2vec, GloVe, and fastText), Morphology.\n",
            "Part Of Speech Tagging and Sequence Labeling: Lexical syntax. Hidden Markov Models\n",
            "and Applications.LSTM Networks.\n",
            "SECTION –C\n",
            "Syntactic parsing: Grammar formalisms and treebanks. Efficient parsing for context -free\n",
            "grammars (CFGs). Statistical parsing and probabilistic CFGs (PCFGs)\n",
            "Semantic Analysis: Meaning representation, Lexical semantics and word -sense\n",
            "disambiguation. Compositional semantics.Semantic Role Labeling and Semantic Parsing.\n",
            "Finding Similarity between texts, Topic Modeling, Text Classification, Sentiment Anal ysis,Total Marks: 100\n"
          ]
        }
      ]
    },
    {
      "cell_type": "code",
      "source": [
        "type(txt_file)"
      ],
      "metadata": {
        "colab": {
          "base_uri": "https://localhost:8080/"
        },
        "id": "20p_tQZQmSML",
        "outputId": "f4809f09-0983-4bda-b755-945979e479e7"
      },
      "execution_count": null,
      "outputs": [
        {
          "output_type": "execute_result",
          "data": {
            "text/plain": [
              "str"
            ]
          },
          "metadata": {},
          "execution_count": 5
        }
      ]
    },
    {
      "cell_type": "markdown",
      "source": [
        "\n",
        "\n",
        "\n",
        "\n",
        "\n",
        "\n",
        "\n",
        "\n",
        "\n",
        "\n",
        "\n",
        "\n",
        "\n",
        "\n",
        "---\n",
        "\n"
      ],
      "metadata": {
        "id": "GxlQ1MFEGaw4"
      }
    },
    {
      "cell_type": "markdown",
      "source": [
        "   .  "
      ],
      "metadata": {
        "id": "9COwBwW-G1E3"
      }
    },
    {
      "cell_type": "markdown",
      "source": [
        ".\n",
        "\n",
        "\n",
        ".\n",
        "\n",
        "\n",
        ".\n",
        "\n",
        "\n",
        "."
      ],
      "metadata": {
        "id": "RlhLVMnIHCwm"
      }
    },
    {
      "cell_type": "code",
      "source": [
        "# Extracting syllabi of MCA(SEM-5)\n",
        "for i in range(43,52):\n",
        "  page=obj.pages[i]\n",
        "  print(page.extract_text())\n",
        "  print('\\n\\n')"
      ],
      "metadata": {
        "colab": {
          "base_uri": "https://localhost:8080/"
        },
        "id": "xVFY1Vf9dxyU",
        "outputId": "99f456f0-12cc-4681-a363-d552b0fa658f"
      },
      "execution_count": null,
      "outputs": [
        {
          "output_type": "stream",
          "name": "stdout",
          "text": [
            "43\n",
            "MASTER OF COMPUTER APPLICATIONS (MCA) (TYC) (CBEGS)\n",
            "Batch from Year 2021 to Year 2024\n",
            "SEMESTER –V\n",
            "CSL611: System Software\n",
            "Credits\n",
            "LTP\n",
            "400\n",
            "Mid Semester Examination: 20% weightage\n",
            "End Semester Examination: 80% weightage\n",
            "Instructions for the Paper Setters:\n",
            "Eight quest ions of equal marks (Specified in the syllabus) are to be set, two in each of the four Sections\n",
            "(A-D). Questions may be subdivided into parts (not exceeding four). Candidates are required to attempt\n",
            "five questions, selecting at least one question from each Section. The fifth question may be attempted\n",
            "from any Section.\n",
            "Note for Candidate:\n",
            "Attempt five questions in all by selecting one question from each section and the fifth question may be\n",
            "attempted from any sections.\n",
            "SECTION –A\n",
            "Introductio n to System Software, Evolution of System software, Components of System software,\n",
            "Translators, Loaders, Interpreters, Assembler and Compiler\n",
            "Overview of Assembly Process\n",
            "SECTION –B\n",
            "Design of One pass and Two pass Assembler\n",
            "Macro definition and expansion, C oncatenation of macro parameters, Generation of unique labels,\n",
            "Conditional macro expansion, Recursive macro expansion\n",
            "SECTION –C\n",
            "Phases of compilation process, Lexical analysis, parsing, Storage management optimisation\n",
            "Incremental compilers, Cross compilers , P code compilers\n",
            "SECTION –D\n",
            "Basic loader functions. Relocation, program linking, linkage,editors, dynamic linking bootstrap loaders\n",
            "Other system software:Operating system, DBMS, text editors, Interactive debugging systems\n",
            "References:\n",
            "1.Leland L. Beck: System Software, An introduction to system programming, Addison Wesley.\n",
            "2.D.M. Dhamdhere:  Introduction to System Software, Tata McGraw Hill.\n",
            "3.D.M. Dhamdhere:  System Software and Operating System, Tata McGraw Hill, 1992.\n",
            "4.Madrich, Stua rte:  Operating Systems, McGraw Hill, 1974.\n",
            "5.Stern Nancy Assembler Language Programming for IBM and IBM compatible computers, John\n",
            "Wiley, 1991.\n",
            "\n",
            "\n",
            "\n",
            "44\n",
            "MASTER OF COMPUTER APPLICATIONS (MCA) (TYC) (CBEGS)\n",
            "Batch from Year 2021 to Year 2024\n",
            "SEMESTER –V\n",
            "CSL612: Software Engineering\n",
            "Credits\n",
            "LTP\n",
            "400\n",
            "Total Marks: 100\n",
            "Mid Semester Examination: 20% weightage\n",
            "End Semester Examination: 80% weightage\n",
            "Instructions for the Paper Setters:\n",
            "Eight questions of equal marks (Specified in the syllabus) are to be set, two in each of the\n",
            "four Sections (A -D). Questions may be subdivid ed into parts (not exceeding four).\n",
            "Candidates are required to attempt five questions, selecting at least one question from each\n",
            "Section. The fifth question may be attempted from any Section.\n",
            "SECTION –A\n",
            "Introduction: Introduction to Software Engineering, S oftware Components, Software\n",
            "Characteristics, Software Crisis, Software Engineering Processes, Similarity and Differences\n",
            "from Conventional Engineering Processes, Software Quality Attributes. Software\n",
            "Development Life Cycle (SDLC) Models: Waterfall Model, Prototype Model, Spiral Model,\n",
            "Evolutionary Development Models, Iterative Enhancement Models. Estimation of various\n",
            "parameters such as Cost, Effort, Schedule/Duration, Constructive Cost Models (COCOMO),\n",
            "Resource Allocation Models, Software Risk Analysis, a nd Management\n",
            "Software Requirement Specifications (SRS) Requirement Engineering Process: Elicitation,\n",
            "Analysis, Documentation, Review and Management of User Needs, Feasibility Study\n",
            "SECTION –B\n",
            "Information Modeling, Data Flow Diagrams, Entity Relationship D iagrams, Decision Tables,\n",
            "SRS Document, IEEE Standards for SRS. Software Quality Assurance (SQA): Verification\n",
            "and Validation, SQA Plans, Software Quality Frameworks, ISO 9000 Models, SEI –CMM\n",
            "Model\n",
            "Basic Concept of Software Design, Architectural Design, Lo w Level Design: Modularization,\n",
            "Design Structure Charts, Pseudo Codes, Flow Charts, Coupling and Cohesion Measures,\n",
            "Design Strategies: Function Oriented Design, Object Oriented Design, Top –Down and\n",
            "Bottom –Up Design. Software Measurement and Metrics: Variou s Size Oriented Measures:\n",
            "Halestead’s Software Science, Function Point (FP) Based Measures, Cyclomatic Complexity\n",
            "Measures: Control Flow Graphs\n",
            "SECTION –C\n",
            "Software Testing :Testing Objectives, Unit Testing, Integration Testing, Acceptance Testing,\n",
            "Regression Testing, Testing for Functionality and Testing for Performance, Top –Down and\n",
            "Bottom –Up Testing Strategies: Test Drivers and Test Stubs, Structural Testing (White Box\n",
            "Testing), Functional Tes ting (Black Box Testing), Test Data Suit Preparation, Alpha and Beta\n",
            "Testing of Products. Static Testing Strategies: Formal Technical Reviews (Peer Reviews),\n",
            "Walk Through, Code Inspection, Compliance with Design and Coding Standards.\n",
            "\n",
            "\n",
            "\n",
            "45\n",
            "MASTER OF COMPUTER APPLICATIONS (MCA) (TYC) (CBEGS)\n",
            "Batch from Year 2021 to Year 2024\n",
            "SECTION –D\n",
            "Software M aintenance and Software Project Management:  Software as  an  Evolutionary\n",
            "Entity, Need for Maintenance, Categories of Maintenance: Preventive, Corrective and\n",
            "Perfective Maintenance, Cost of Maintenance, Software Re –Engineering, Reverse\n",
            "Engineering. Softw are Configuration Management Activities, Change Control Process,\n",
            "Software Version Control, Working knowledge of distributed version control system Git.\n",
            "References:\n",
            "1.R. S. Pressman, Software Engineering: A Practitioners Approach, McGraw Hill.\n",
            "2.Rajib Ma ll, Fundamentals of Software Engineering, PHI Publication.\n",
            "3.K. K. Aggarwal and Yogesh Singh, Software Engineering, New Age International\n",
            "Publishers.\n",
            "4.Pankaj Jalote, Software Engineering, Wiley\n",
            "5.Carlo Ghezzi, M. Jarayeri, D. Manodrioli, Fundamentals o f Software Engineering,\n",
            "PHI Publication.\n",
            "6.Ian Sommerville, Software Engineering, Addison Wesley.\n",
            "7. KassemSaleh,”Software Engineering”, Cengage Learning.\n",
            "8.Pfleeger, Software Engineering, Macmillan Publication\n",
            "\n",
            "\n",
            "\n",
            "46\n",
            "MASTER OF COMPUTER APPLICATIONS (MCA) (TYC) (CBEGS)\n",
            "Batch from Year 2021 to Year 2024\n",
            "SEMESTER –V\n",
            "CSL636: Distributed Systems\n",
            "Credits\n",
            "LTP\n",
            "400\n",
            "Mid Semester Examination: 20% weightage\n",
            "End Semester Examination: 80% weightage\n",
            "Instructions for the Paper Setters:\n",
            "Eight questions of equal marks (Specified in the syllabus) are to be set, two in each of the\n",
            "four Sections (A -D). Questions may be subdivided into parts (not exceeding four).\n",
            "Candidates are required to attempt five questions, selecting at least one questio n from each\n",
            "Section. The fifth question may be attempted from any Section.\n",
            "SECTION –A\n",
            "Distributed Systems –Basic characteristics, benefits over centralized systems, challenges,\n",
            "Design Issues, fallacies; System Models –physical, architectural, and fundame ntal, client -\n",
            "server and peer to peer systems;\n",
            "SECTION –B\n",
            "Role of middleware; communication -message passing and distributed shared memory\n",
            "Inter process communication –direct, multicast, indirect, RPC, RMI. Operating System\n",
            "support; Time and Global states;\n",
            "SECTION –C\n",
            "Coordination and agreement; Distributed transactions and c oncurrency control; Replication\n",
            "SECTION –D\n",
            "Security challenges –perimeter defence, authentication schemes, and access control\n",
            "technologi es.Reliable distributed computing –why do systems fail, how to overcome\n",
            "failures.\n",
            "Computing in the clouds. Google as a case study.\n",
            "Prescribed Text: Distributed Systems, Concepts and Design, by Coulouris, Dollimore, and\n",
            "Kindberg, 5th ed., 2012.\n",
            "Recomme nded Readings:\n",
            "1.Andrew S. Tanenbaum, Distributed Operating Systems, ACM Press.\n",
            "2.Jie Wu, Distributed Systems, CRC Press.\n",
            "3.HagitAttiya, Jennifer Welch, Distributed Computing: Fundamentals, Simulations and\n",
            "Advanced Topics, McGraw -Hill.\n",
            "4.Kai Hwang, Ge offrey Fox, Jack Dongarra, Distributed Computing and Cloud Computing\n",
            "–from parallel processing to Internet of Things, Morgan Kaufmann, Elsevier, 2012.\n",
            "5.Kenneth P. Birman, Guide to Reliable Distributed Systems, Springer, 2012.\n",
            "6.MukeshSinghal and NiranjanShivaratri, Advanced Concepts in Operating Systems, McGraw -\n",
            "Hill.Total Marks: 100\n",
            "\n",
            "\n",
            "\n",
            "47\n",
            "MASTER OF COMPUTER APPLICATIONS (MCA) (TYC) (CBEGS)\n",
            "Batch from Year 2021 to Year 2024\n",
            "SEMESTER –V\n",
            "CSL637: CLOUD NATIVE APPLICATION DEVELOPMENT\n",
            "Credits\n",
            "LTP\n",
            "400\n",
            "Mid Semester Examination: 20% weightage\n",
            "End Semester Examination: 80% weightage\n",
            "Instructions for the Paper Setters:\n",
            "Eight questions of equal marks (Specified in the syllabus) are to be set, two in each of the\n",
            "four Sections (A -D). Questions may be subdivided into parts (not exceeding four).\n",
            "Candidates are required to attempt five questions, selecting at least one question from each\n",
            "Section. The fifth question may be attempted from any Section.\n",
            "SECTION –A\n",
            "Defining a Cloud, Cloud Types –NIST model, Cloud Cube model, Deployment models\n",
            "(Public, Private, Hybrid and Community Clouds), Service models –Infrastructure as a\n",
            "Service, Platform as a Service, Software as a Service with examples of services/ service\n",
            "providers, Cloud Reference model Characteristics of Cloud Computing –a shift in paradigm\n",
            "Benefits and advantages of Cloud Computing.\n",
            "SECTION –B\n",
            "A brief introduction on Composability, Infrastructure, Platforms, Virtual Appliances,\n",
            "Communication Protocols, A pplications, Connecting to the Cloud by Clients, IaaS, PaaS,\n",
            "SaaS, IDaaS, CaaS, Virtualization technologies: Types of virtualization (access, application,\n",
            "CPU, storage), Mobility patterns (P2V, V2V, V2P, P2P, D2C, C2C, C2D, D2D),\n",
            "Hypervisors: Virtual machi ne technology and types, VMware vSphere.\n",
            "SECTION –C\n",
            "An introduction to Docker& Container, Docker Architecture, Docker Commands (version,\n",
            "pull, run, ps, exec, stop, kill, commit, login, push, images, rm, rmi, build, etc…), Setting up\n",
            "Docker on Windows, Cont ainerize your application using Docker, Containerizing a MEAN\n",
            "Stack Application, Docker Swarm For Achieving High Availability, Container Network\n",
            "Model.\n",
            "SECTION –D\n",
            "An Introduction to Kubernetes clusters, Kubernetes Architecture, Installation and Views of\n",
            "Kubernetes Dashboard, Configuration Management using Puppet, Installation of Puppet,\n",
            "Using Puppet modules for infrastructure Automation, Master -Slave Architecture for Chef,\n",
            "Steps for Installation of Chef, Transforming Infrastructure into Code using Chef.\n",
            "References:\n",
            "1.Mastering Cloud Computing by RajkumarBuyya, Christian Vecchiola, S.\n",
            "ThamaraiSelvi, McGraw Hill Education (India) Private Limited, 2013\n",
            "2.Cloud computing: A practical approach, Anthony T. Velte, Tata Mcgraw -Hill\n",
            "3.Using Docker: Developing & D eploying Software with Containers, by Adrian Mouat,\n",
            "Shroff/O'Reilly; First edition (2016), ISBN -13: 978-9352133024\n",
            "4.Managing Infrastructure with Puppet, by Loope James, O'Reilly Media, Inc, USA,\n",
            "ISBN: 9781449307639, 9781449307639\n",
            "5.Cloud Native DevOps w ith Kubernetes: Building, Deploying, and Scaling Modern\n",
            "Applications in the Cloud, by John Arundel, O'Reilly Media; 1 edition (8 March 2019),\n",
            "ASIN: B07PJ4HM92\n",
            "6.Cloud Computing Bible by Barrie Sosinsky, Wiley India Pvt. Ltd, 2013.\n",
            "7.https://onlinelibrary .wiley.com/doi /book/10.10 02/9780470 940105Total Marks: 100\n",
            "\n",
            "\n",
            "\n",
            "48\n",
            "MASTER OF COMPUTER APPLICATIONS (MCA) (TYC) (CBEGS)\n",
            "Batch from Year 2021 to Year 2024\n",
            "SEMESTER –V\n",
            "CSL638: Digital Forensics (Elective-IV)\n",
            "Credits\n",
            "LTP\n",
            "400\n",
            "Mid Semester Examination: 20% weightage\n",
            "End Semester Examination: 80% weightage\n",
            "Instructions for the Paper Setters:\n",
            "Eight questions of equal marks (Specified in the syllabus) are to be set, two in each of the\n",
            "four Sections (A -D). Questions may be subdivided into parts (not exceeding four).\n",
            "Candidates are required to attempt five quest ions, selecting at least one question from each\n",
            "Section. The fifth question may be attempted from any Section.\n",
            "SECTION –A\n",
            "What is digital forensics? Digital forensics methodology; A brief history of digital forensics;\n",
            "The need for digital forensics as technology advances; Commercial tools available in the field\n",
            "of digital forensics Operating systems and open source tools for digital forensics; The need\n",
            "for multiple forensics tools in digital investigations; Anti -forensics: threats to digital\n",
            "forensics, the trade offs and differences between various forensic tools;\n",
            "The digital forensics process: problem identification, col lection, examination, analysis, and\n",
            "presentation; evidence preservation\n",
            "Digital Evidence Collection, Search and Seizure of Computers: Study of file systems with a\n",
            "main focus on Microsoft Windows & Linux Systems; Data Acquisition of physical storage\n",
            "devices;Memory Acquisition;\n",
            "SECTION –B\n",
            "Information hiding & steganography; Encryption and Decryption methods, recovering\n",
            "deleted evidences: time, registry, and Password recovery; Deleted File Recovery, Formatted\n",
            "Partition Recovery, Data Recovery Tools, Data Reco very Procedures and Ethics, Preserve\n",
            "and safely handle original media, Document a &quot; Chain of Custody &quot;, Complete\n",
            "time line analysis of computer files based on file creation, file modification and file access,\n",
            "Recover Internet Usage Data, Recover Swap Files/Temporary Files/Cache Files\n",
            "Email and Database Forensics; mobile and embedded forensics, Internet forensics; network\n",
            "forensics\n",
            "SECTION –C\n",
            "Using open -source forensics tools to perform digital investigation e.g. Autopsy and Sleuth\n",
            "Kit; digital for ensics with kali linux;\n",
            "SECTION –D\n",
            "Digital Forensic readiness; Cyber crime law, national & international legal frameworks for\n",
            "cyber crime law, international cooperation in order to collect digital evidence;\n",
            "challenges in digital forensicsTotal Marks: 100\n",
            "\n",
            "\n",
            "\n",
            "49\n",
            "MASTER OF COMPUTER APPLICATIONS (MCA) (TYC) (CBEGS)\n",
            "Batch from Year 2021 to Year 2024\n",
            "References:\n",
            "1.Digital Forensic Diaries (Paperback) by Mike Sheward\n",
            "2.Digital Forensics, André Årnes (Editor), Wiley, 2018\n",
            "3.Cybercrime and Digital Forensics, Thomas J. Holt, Adam M. Bossler, and Kathryn C.\n",
            "Seigfried-Spellar, Routeledge, 2ndEdition, 2018\n",
            "4.Computer Forensics and Cyber Crime: An Introduction, 2e Paperback –2011\n",
            "byBritz(Author)\n",
            "5.Digital Forensics with Kali Linux: Perform data acquisition, digital investigation, and\n",
            "threat analysis using Kali Linux tools by Shiva V.N. Parasram, 2017, Packt publishing\n",
            "\n",
            "\n",
            "\n",
            "50\n",
            "MASTER OF COMPUTER APPLICATIONS (MCA) (TYC) (CBEGS)\n",
            "Batch from Year 2021 to Year 2024\n",
            "SEMESTER –V\n",
            "CSL639:Natural Language Processing (Elective-IV)\n",
            "Credits\n",
            "LTP\n",
            "400\n",
            "Mid Semester Examination: 20% weightage\n",
            "End Semester Examination: 80% weightage\n",
            "Instructions for the Paper Setters: Eight questions of equal marks (Specified in the\n",
            "syllabus) are to be set, two in each of the four Sections (A -D). Questions may be subdivided\n",
            "into parts (not exceeding four). Candidates are required to attempt five questions, selecting at\n",
            "least one questi on from each Section. The fifth question may be attempted from any Section.\n",
            "SECTION –A\n",
            "Introduction: NLP tasks in syntax, semantics, and pragmatics, Applications such as\n",
            "information extraction, question answering, and machine translation, Regular Expressio ns,\n",
            "The problem of ambiguity, The role of machine learning, Brief history of the NLP.\n",
            "Linguistics resources: Introduction to corpus, elements in balanced corpus, TreeBank,\n",
            "PropBank, WordNet and VerbNet. Management of linguistic data with the help of\n",
            "NLTK/Python\n",
            "SECTION –B\n",
            "Extracting the data from text files: in HTML, PDF, JSON format; web scraping\n",
            "Exploring and Processing Text Data –stop word removal, tokenization, Stemming,\n",
            "Lemmatization\n",
            "Language Models: The role of language models. Simple N -gram models. Estimating\n",
            "parameters and smoothing.\n",
            "Feature Engineering: Converting text to features, implementing word embeddings\n",
            "(word2vec, GloVe, and fastText), Morphology.\n",
            "Part Of Speech Tagging and Sequence Labeling: Lexical syntax. Hidden Markov Models\n",
            "and Applications.LSTM Networks.\n",
            "SECTION –C\n",
            "Syntactic parsing: Grammar formalisms and treebanks. Efficient parsing for context -free\n",
            "grammars (CFGs). Statistical parsing and probabilistic CFGs (PCFGs)\n",
            "Semantic Analysis: Meaning representation, Lexical semantics and word -sense\n",
            "disambiguation. Compositional semantics.Semantic Role Labeling and Semantic Parsing.\n",
            "Finding Similarity between texts, Topic Modeling, Text Classification, Sentiment Anal ysis,Total Marks: 100\n",
            "\n",
            "\n",
            "\n",
            "51\n",
            "MASTER OF COMPUTER APPLICATIONS (MCA) (TYC) (CBEGS)\n",
            "Batch from Year 2021 to Year 2024\n",
            "SECTION –D\n",
            "Information Extraction (IE): Named E ntityRecognition (NER)and relation extract ion. IE\n",
            "using sequence labelling\n",
            "Speech to Text and Text to Speech\n",
            "Machine Translation (MT): Basic issues in MT. Statistical translation, word alignment,\n",
            "phrase-based translation, and synchronous grammars. Language detection and translation\n",
            "Question Answering, Dialog Systems and Chatbots.\n",
            "Implement the applications for the following types: Complaint Classification, Sentiment\n",
            "Analysis.\n",
            "References:\n",
            "1.A. Kulkarni and A. Shivananda, Natural Language Processing Recipes, 2019,\n",
            "https://doi.org/10.1007/978 -1-4842-4267-4_4\n",
            "2.Allen, James, Natural Language Understanding, Second Edition, Benjamin/Cumming,\n",
            "1995.\n",
            "3.Charniack, Eugene, Statistical Language Learni ng, MIT Press, 1993.\n",
            "4.Jurafsky, Dan and Martin, James, Speech and Language Processing, Second Edition,\n",
            "Prentice Hall, 2008.\n",
            "5.Manning, Christopher and Heinrich, Schutze, Foundations of StatisticalNatural\n",
            "Language Processing, MIT Press, 1999.\n",
            "6.Siddiqui T., Tiwary U. S.. Natural language processing and Information retrieval,\n",
            "OUP, 2008.\n",
            "7.Steven Bird, Ewan Klein and Edward Loper, Natural Language Processing with\n",
            "Python, O’REILLY, 2009.\n",
            "8.Christopher Manning and HinrichSchütze, Foundations of Sta tistical Natural\n",
            "Language Processing, The MIT Press, 1999.\n",
            "\n",
            "\n",
            "\n"
          ]
        }
      ]
    },
    {
      "cell_type": "markdown",
      "source": [],
      "metadata": {
        "id": "rcUKjXL-G2Nx"
      }
    },
    {
      "cell_type": "markdown",
      "source": [
        "##**Extracting data from JSON**"
      ],
      "metadata": {
        "id": "rClXe8EBsP7y"
      }
    },
    {
      "cell_type": "code",
      "source": [
        "import json\n",
        "import requests"
      ],
      "metadata": {
        "id": "WKDFhlbGscuI"
      },
      "execution_count": null,
      "outputs": []
    },
    {
      "cell_type": "markdown",
      "source": [
        "\n",
        "\n",
        "\n",
        "\n",
        "---\n",
        "\n",
        "\n",
        "**Store data in JSON format**"
      ],
      "metadata": {
        "id": "bcvEeQCAzmZM"
      }
    },
    {
      "cell_type": "code",
      "source": [
        "data={'Name':'Raghav Mahajan','Profession':'IT Student','Date of Birth':'23-06-2001','Contact':9914199383}\n",
        "temp_file=json.dumps(data,indent=4)\n",
        "\n",
        "with open(\"json_File.json\",\"w\") as file:\n",
        "  file.write(temp_file)"
      ],
      "metadata": {
        "id": "qxk3BKa-mxLm"
      },
      "execution_count": null,
      "outputs": []
    },
    {
      "cell_type": "code",
      "source": [
        "print(temp_file)"
      ],
      "metadata": {
        "colab": {
          "base_uri": "https://localhost:8080/"
        },
        "id": "iUHXX3s9t2uT",
        "outputId": "a9d82915-4aac-45ad-ecfa-8c661bd4d5cf"
      },
      "execution_count": null,
      "outputs": [
        {
          "output_type": "stream",
          "name": "stdout",
          "text": [
            "{\n",
            "    \"Name\": \"Raghav Mahajan\",\n",
            "    \"Profession\": \"IT Student\",\n",
            "    \"Date of Birth\": \"23-06-2001\",\n",
            "    \"Contact\": 9914199383\n",
            "}\n"
          ]
        }
      ]
    },
    {
      "cell_type": "markdown",
      "source": [
        "\n",
        "\n",
        "\n",
        "\n",
        "---\n",
        "\n",
        "\n",
        "**Reading data from json**"
      ],
      "metadata": {
        "id": "buUBD1gBz37L"
      }
    },
    {
      "cell_type": "code",
      "source": [
        "#\n",
        "with open('json_File.json','r') as file:\n",
        "  temp=json.load(file)\n",
        "print(temp)"
      ],
      "metadata": {
        "colab": {
          "base_uri": "https://localhost:8080/"
        },
        "id": "QiugzClDuGU5",
        "outputId": "f8e3f831-1687-48c8-88a8-88ce292efeba"
      },
      "execution_count": null,
      "outputs": [
        {
          "output_type": "stream",
          "name": "stdout",
          "text": [
            "{'Name': 'Raghav Mahajan', 'Profession': 'IT Student', 'Date of Birth': '23-06-2001', 'Contact': 9914199383}\n"
          ]
        }
      ]
    },
    {
      "cell_type": "code",
      "source": [
        "type(temp)"
      ],
      "metadata": {
        "colab": {
          "base_uri": "https://localhost:8080/"
        },
        "id": "umi-4ww6zd_6",
        "outputId": "9c31e8df-6d02-4bf5-aa4f-c3256f73c7c8"
      },
      "execution_count": null,
      "outputs": [
        {
          "output_type": "execute_result",
          "data": {
            "text/plain": [
              "dict"
            ]
          },
          "metadata": {},
          "execution_count": 5
        }
      ]
    },
    {
      "cell_type": "code",
      "source": [
        "with open('kaggle (4).json','r') as file:\n",
        "  temp=json.load(file)\n",
        "print(temp)"
      ],
      "metadata": {
        "colab": {
          "base_uri": "https://localhost:8080/"
        },
        "id": "kkkYRJ4-zFm1",
        "outputId": "75453868-7b53-4c01-d5ca-fcadf661236a"
      },
      "execution_count": null,
      "outputs": [
        {
          "output_type": "stream",
          "name": "stdout",
          "text": [
            "{'username': 'parasmahajan2001', 'key': 'd5c5f949c2573fb3f7ee87744a7eac46'}\n"
          ]
        }
      ]
    },
    {
      "cell_type": "markdown",
      "source": [
        "\n",
        "---\n",
        "\n",
        "\n",
        "**To extract json data from internet**"
      ],
      "metadata": {
        "id": "GWPMj4gt0I3g"
      }
    },
    {
      "cell_type": "code",
      "source": [
        "# r=requests.get(' https://content/kaggle (4).json')   #get() takes url as an input\n",
        "# data=r.json()\n",
        "# print(json.dumps(data,indent=1))"
      ],
      "metadata": {
        "id": "XQDoL9qOumZw"
      },
      "execution_count": null,
      "outputs": []
    },
    {
      "cell_type": "markdown",
      "source": [
        "\n",
        "\n",
        "\n",
        "---\n",
        "##**Extracting data from HTML**\n",
        "\n"
      ],
      "metadata": {
        "id": "RWvFS5z-01ej"
      }
    },
    {
      "cell_type": "code",
      "source": [
        "import bs4\n",
        "from bs4 import BeautifulSoup\n",
        "import requests"
      ],
      "metadata": {
        "id": "EmqRUgYC7RdX"
      },
      "execution_count": null,
      "outputs": []
    },
    {
      "cell_type": "code",
      "source": [
        "url=\"https://en.wikipedia.org/wiki/Batala\"\n",
        "response=requests.get(url)\n",
        "html_content=''\n",
        "if response.status_code==200:\n",
        "  html_content=response.content\n",
        "else:\n",
        "  print('Unable to fetch the data')\n",
        "  exit()\n",
        "\n",
        "soup=BeautifulSoup(html_content,'html.parser')\n",
        "text=soup.prettify()\n",
        "\n",
        "print(text[:5000])"
      ],
      "metadata": {
        "colab": {
          "base_uri": "https://localhost:8080/"
        },
        "id": "BrakEP8o026b",
        "outputId": "c48c6402-fa95-4a93-9483-f5f5044deb84"
      },
      "execution_count": null,
      "outputs": [
        {
          "output_type": "stream",
          "name": "stdout",
          "text": [
            "<!DOCTYPE html>\n",
            "<html class=\"client-nojs vector-feature-language-in-header-enabled vector-feature-language-in-main-page-header-disabled vector-feature-sticky-header-disabled vector-feature-page-tools-pinned-disabled vector-feature-toc-pinned-enabled vector-feature-main-menu-pinned-disabled vector-feature-limited-width-clientpref-1 vector-feature-limited-width-content-enabled vector-feature-zebra-design-disabled vector-feature-custom-font-size-clientpref-disabled\" dir=\"ltr\" lang=\"en\">\n",
            " <head>\n",
            "  <meta charset=\"utf-8\"/>\n",
            "  <title>\n",
            "   Batala - Wikipedia\n",
            "  </title>\n",
            "  <script>\n",
            "   (function(){var className=\"client-js vector-feature-language-in-header-enabled vector-feature-language-in-main-page-header-disabled vector-feature-sticky-header-disabled vector-feature-page-tools-pinned-disabled vector-feature-toc-pinned-enabled vector-feature-main-menu-pinned-disabled vector-feature-limited-width-clientpref-1 vector-feature-limited-width-content-enabled vector-feature-zebra-design-disabled vector-feature-custom-font-size-clientpref-disabled\";var cookie=document.cookie.match(/(?:^|; )enwikimwclientpreferences=([^;]+)/);if(cookie){cookie[1].split('%2C').forEach(function(pref){className=className.replace(new RegExp('(^| )'+pref.replace(/-clientpref-\\w+$|[^\\w-]+/g,'')+'-clientpref-\\\\w+( |$)'),'$1'+pref+'$2');});}document.documentElement.className=className;}());RLCONF={\"wgBreakFrames\":false,\"wgSeparatorTransformTable\":[\"\",\"\"],\"wgDigitTransformTable\":[\"\",\"\"],\"wgDefaultDateFormat\":\"dmy\",\"wgMonthNames\":[\"\",\"January\",\"February\",\"March\",\"April\",\"May\",\"June\",\"July\",\"August\",\n",
            "\"September\",\"October\",\"November\",\"December\"],\"wgRequestId\":\"99c004bf-8c93-4730-a73d-5f2dedbcaa56\",\"wgCanonicalNamespace\":\"\",\"wgCanonicalSpecialPageName\":false,\"wgNamespaceNumber\":0,\"wgPageName\":\"Batala\",\"wgTitle\":\"Batala\",\"wgCurRevisionId\":1174740110,\"wgRevisionId\":1174740110,\"wgArticleId\":2647587,\"wgIsArticle\":true,\"wgIsRedirect\":false,\"wgAction\":\"view\",\"wgUserName\":null,\"wgUserGroups\":[\"*\"],\"wgCategories\":[\"Accuracy disputes from March 2022\",\"Use dmy dates from June 2016\",\"Use Indian English from June 2016\",\"All Wikipedia articles written in Indian English\",\"Articles needing additional references from May 2017\",\"All articles needing additional references\",\"Articles needing cleanup from November 2010\",\"All pages needing cleanup\",\"Cleanup tagged articles without a reason field from November 2010\",\"Wikipedia pages needing cleanup from November 2010\",\"Articles needing cleanup from August 2022\",\"Articles with bare URLs for citations from August 2022\",\n",
            "\"All articles with bare URLs for citations\",\"Articles covered by WikiProject Wikify from August 2022\",\"All articles covered by WikiProject Wikify\",\"Articles with multiple maintenance issues\",\"Articles with short description\",\"Short description is different from Wikidata\",\"Coordinates on Wikidata\",\"All Wikipedia articles needing clarification\",\"Wikipedia articles needing clarification from November 2019\",\"Articles needing additional references from February 2022\",\"All articles with unidentified words\",\"Articles with unidentified words from October 2022\",\"Articles needing cleanup from June 2022\",\"All articles with unsourced statements\",\"Articles with unsourced statements from March 2013\",\"Articles with VIAF identifiers\",\"Articles with BNF identifiers\",\"Articles with BNFdata identifiers\",\"Articles with J9U identifiers\",\"Cities and towns in Gurdaspur district\"],\"wgPageViewLanguage\":\"en\",\"wgPageContentLanguage\":\"en\",\"wgPageContentModel\":\"wikitext\",\"wgRelevantPageName\":\"Batala\",\n",
            "\"wgRelevantArticleId\":2647587,\"wgIsProbablyEditable\":true,\"wgRelevantPageIsProbablyEditable\":true,\"wgRestrictionEdit\":[],\"wgRestrictionMove\":[],\"wgVisualEditor\":{\"pageLanguageCode\":\"en\",\"pageLanguageDir\":\"ltr\",\"pageVariantFallbacks\":\"en\"},\"wgMFDisplayWikibaseDescriptions\":{\"search\":true,\"watchlist\":true,\"tagline\":false,\"nearby\":true},\"wgWMESchemaEditAttemptStepOversample\":false,\"wgWMEPageLength\":30000,\"wgNoticeProject\":\"wikipedia\",\"wgFlaggedRevsParams\":{\"tags\":{\"status\":{\"levels\":1}}},\"wgMediaViewerOnClick\":true,\"wgMediaViewerEnabledByDefault\":true,\"wgPopupsFlags\":10,\"wgULSCurrentAutonym\":\"English\",\"wgCoordinates\":{\"lat\":31.8186,\"lon\":75.2028},\"wgEditSubmitButtonLabelPublish\":true,\"wgCentralAuthMobileDomain\":false,\"wgULSPosition\":\"interlanguage\",\"wgULSisCompactLinksEnabled\":true,\"wgULSisLanguageSelectorEmpty\":false,\"wgWikibaseItemId\":\"Q709254\",\"wgCheckUserClientHintsHeadersJsApi\":[\"architecture\",\"bitness\",\"brands\",\"fullVersionList\",\"mobile\",\"model\",\"platform\",\"platformVersion\"],\n",
            "\"GEHomepageSuggestedEditsEnableTopics\":true,\"wgGETopicsMatchModeEnabled\":false,\"wgGEStructuredTaskRejectionReasonTextInputEnabled\":false,\"wgGELevelingUpEnabledForUser\":false};RLSTATE={\"skins.vector.user.styles\":\"ready\",\"ext.globalCssJs.user.styles\":\"ready\",\"site.styles\":\"ready\",\"user.styles\":\"ready\",\"skins.vector.user\":\"ready\",\"ext.globalCssJs.user\":\"ready\",\"user\":\"ready\",\"user.options\":\"loading\",\"ext.cite.styles\":\"ready\",\"codex-search-styles\":\"ready\",\"skins.vector.styles\"\n"
          ]
        }
      ]
    },
    {
      "cell_type": "markdown",
      "source": [
        "https://www.edureka.co/blog/web-scraping-with-python/"
      ],
      "metadata": {
        "id": "gmyNmxH5_2NM"
      }
    },
    {
      "cell_type": "code",
      "source": [],
      "metadata": {
        "id": "8d6uGblj_9cS"
      },
      "execution_count": null,
      "outputs": []
    }
  ]
}