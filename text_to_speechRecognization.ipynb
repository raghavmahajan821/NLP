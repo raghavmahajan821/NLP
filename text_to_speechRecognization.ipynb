{
  "nbformat": 4,
  "nbformat_minor": 0,
  "metadata": {
    "colab": {
      "provenance": [],
      "authorship_tag": "ABX9TyNchP7D7cowaQyOBSqhXhCm",
      "include_colab_link": true
    },
    "kernelspec": {
      "name": "python3",
      "display_name": "Python 3"
    },
    "language_info": {
      "name": "python"
    }
  },
  "cells": [
    {
      "cell_type": "markdown",
      "metadata": {
        "id": "view-in-github",
        "colab_type": "text"
      },
      "source": [
        "<a href=\"https://colab.research.google.com/github/raghavmahajan821/NLP/blob/main/text_to_speechRecognization.ipynb\" target=\"_parent\"><img src=\"https://colab.research.google.com/assets/colab-badge.svg\" alt=\"Open In Colab\"/></a>"
      ]
    },
    {
      "cell_type": "markdown",
      "source": [
        "Using Google text to speech(gtts)"
      ],
      "metadata": {
        "id": "yTJTk7mutNgZ"
      }
    },
    {
      "cell_type": "code",
      "source": [
        "!pip install gtts\n",
        "from gtts import gTTS\n",
        "text=\"Hi good evening Raghav mahajan ,Hope you are doing good\"\n",
        "convert=gTTS(text,lang='en',slow=False)\n",
        "convert.save('audio.mp3')"
      ],
      "metadata": {
        "id": "L7IXLNn1tNt8"
      },
      "execution_count": null,
      "outputs": []
    }
  ]
}